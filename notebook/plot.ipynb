{
 "cells": [
  {
   "cell_type": "code",
   "execution_count": 10,
   "metadata": {},
   "outputs": [],
   "source": [
    "\n",
    "import json\n",
    "\n",
    "# read a.json\n",
    "with open('a.json', 'r', encoding='utf-8') as f:\n",
    "    a = json.load(f)\n",
    "\n",
    "# read b.json\n",
    "with open('b.json', 'r', encoding='utf-8') as f:\n",
    "    b = json.load(f)\n",
    "\n",
    "with open('flattened_table.json', 'r', encoding='utf-8') as f:\n",
    "    c = json.load(f)"
   ]
  },
  {
   "cell_type": "code",
   "execution_count": 21,
   "metadata": {},
   "outputs": [
    {
     "data": {
      "text/plain": [
       "{'has_multiindex': False,\n",
       " 'header_matrix': [[{'text': 'Chỉ tiêu',\n",
       "    'colspan': 1,\n",
       "    'rowspan': 1,\n",
       "    'position': 0},\n",
       "   {'text': 'Thành phần', 'colspan': 1, 'rowspan': 1, 'position': 1},\n",
       "   {'text': 'Loại hình', 'colspan': 1, 'rowspan': 1, 'position': 2},\n",
       "   {'text': 'BU', 'colspan': 1, 'rowspan': 1, 'position': 3},\n",
       "   {'text': 'N2022 6Tđn QI T01 Kế hoạch',\n",
       "    'colspan': 1,\n",
       "    'rowspan': 1,\n",
       "    'position': 4},\n",
       "   {'text': 'N2022 6Tđn QI T01 Thực hiện',\n",
       "    'colspan': 1,\n",
       "    'rowspan': 1,\n",
       "    'position': 5}]],\n",
       " 'final_columns': ['Chỉ tiêu',\n",
       "  'Thành phần',\n",
       "  'Loại hình',\n",
       "  'BU',\n",
       "  'N2022 6Tđn QI T01 Kế hoạch',\n",
       "  'N2022 6Tđn QI T01 Thực hiện'],\n",
       " 'data_rows': [['DOANH THU',\n",
       "   'Undefined',\n",
       "   'Undefined',\n",
       "   'Undefined',\n",
       "   None,\n",
       "   None],\n",
       "  ['DOANH THU', 'Undefined', 'Sản xuất', 'Undefined', None, None],\n",
       "  ['DOANH THU', 'Undefined', 'Sản xuất', 'BU01', 1.0, 3.0],\n",
       "  ['DOANH THU', 'Undefined', 'Sản xuất', 'BU02', 2.0, 6.0],\n",
       "  ['DOANH THU', 'Undefined', 'Sản xuất', 'BU03', 3.0, 9.0],\n",
       "  ['DOANH THU', 'Undefined', 'Sản xuất', 'BU05', 4.0, 12.0],\n",
       "  ['DOANH THU', 'Undefined', 'Sản xuất', 'BU06', 5.0, 15.0],\n",
       "  ['DOANH THU', 'Undefined', 'Sản xuất', 'Phòng/ban khác', 6.0, 18.0],\n",
       "  ['DOANH THU', 'Undefined', 'Dịch vụ', 'Undefined', None, None],\n",
       "  ['DOANH THU', 'Undefined', 'Dịch vụ', 'BU01', 8.0, 24.0],\n",
       "  ['DOANH THU', 'Undefined', 'Dịch vụ', 'BU02', 9.0, 27.0],\n",
       "  ['DOANH THU', 'Undefined', 'Dịch vụ', 'BU03', 10.0, 30.0],\n",
       "  ['DOANH THU', 'Undefined', 'Dịch vụ', 'BU05', 11.0, 33.0],\n",
       "  ['DOANH THU', 'Undefined', 'Dịch vụ', 'BU06', 12.0, 36.0],\n",
       "  ['DOANH THU', 'Undefined', 'Dịch vụ', 'Phòng/ban khác', 13.0, 39.0],\n",
       "  ['DOANH THU', 'Undefined', 'Thương mại', 'Undefined', None, None],\n",
       "  ['DOANH THU', 'Undefined', 'Thương mại', 'BU01', 15.0, 45.0],\n",
       "  ['DOANH THU', 'Undefined', 'Thương mại', 'BU02', 16.0, 48.0],\n",
       "  ['DOANH THU', 'Undefined', 'Thương mại', 'BU03', 17.0, 51.0],\n",
       "  ['DOANH THU', 'Undefined', 'Thương mại', 'BU05', 18.0, 54.0],\n",
       "  ['DOANH THU', 'Undefined', 'Thương mại', 'BU06', 19.0, 57.0],\n",
       "  ['DOANH THU', 'Undefined', 'Thương mại', 'Phòng/ban khác', 20.0, 60.0],\n",
       "  ['DOANH THU', 'Undefined', 'Khác', 'Undefined', None, None],\n",
       "  ['DOANH THU', 'Undefined', 'Khác', 'BU01', 22.0, 66.0],\n",
       "  ['DOANH THU', 'Undefined', 'Khác', 'BU02', 23.0, 69.0],\n",
       "  ['DOANH THU', 'Undefined', 'Khác', 'BU03', 24.0, 72.0],\n",
       "  ['DOANH THU', 'Undefined', 'Khác', 'BU05', 25.0, 75.0],\n",
       "  ['DOANH THU', 'Undefined', 'Khác', 'BU06', 26.0, 78.0],\n",
       "  ['DOANH THU', 'Undefined', 'Khác', 'Phòng/ban khác', 27.0, 81.0]],\n",
       " 'row_count': 29,\n",
       " 'col_count': 6}"
      ]
     },
     "execution_count": 21,
     "metadata": {},
     "output_type": "execute_result"
    }
   ],
   "source": [
    "c"
   ]
  },
  {
   "cell_type": "code",
   "execution_count": 15,
   "metadata": {},
   "outputs": [
    {
     "data": {
      "text/plain": [
       "{'filename': 'Doanh tác theo đối tác và nguồn 2024.xlsx',\n",
       " 'has_multiindex': False,\n",
       " 'columns': ['Nguồn',\n",
       "  'N2024 Tháng 1',\n",
       "  'N2024 Tháng 2',\n",
       "  'N2024 Tháng 3',\n",
       "  'N2024 Tháng 4',\n",
       "  'N2024 Tháng 5',\n",
       "  'N2024 Tháng 6'],\n",
       " 'data': [['Tự SX', 100, 150, 200, 250, 300, 350],\n",
       "  ['OS', 200, 250, 300, 350, 400, 450],\n",
       "  ['LK', 300, 350, 400, 450, 500, 550],\n",
       "  ['Dịch vụ', 400, 450, 500, 550, 600, 650],\n",
       "  ['Phí QL', 500, 550, 600, 650, 700, 750],\n",
       "  ['Thương mại', 600, 650, 700, 750, 800, 850],\n",
       "  ['Khác', 700, 750, 800, 850, 900, 950]],\n",
       " 'row_count': 7,\n",
       " 'col_count': 7,\n",
       " 'export_timestamp': '2025-06-14T10:49:05.597Z',\n",
       " 'flattening_applied': True,\n",
       " 'filters_applied': {'nan_rows_hidden': 1, 'redundant_columns_hidden': 1},\n",
       " 'hierarchical_structure_preserved': False,\n",
       " 'note': 'Table has been completely flattened - original hierarchy lost'}"
      ]
     },
     "execution_count": 15,
     "metadata": {},
     "output_type": "execute_result"
    }
   ],
   "source": [
    "a"
   ]
  },
  {
   "cell_type": "code",
   "execution_count": 22,
   "metadata": {},
   "outputs": [
    {
     "data": {
      "text/plain": [
       "{'filename': 'Doanh tác theo đối tác và nguồn 2024.xlsx',\n",
       " 'has_multiindex': True,\n",
       " 'columns': ['Đối tác',\n",
       "  'Nguồn',\n",
       "  'Tháng 1',\n",
       "  'Tháng 2',\n",
       "  'Tháng 3',\n",
       "  'Tháng 4',\n",
       "  'Tháng 5',\n",
       "  'Tháng 6'],\n",
       " 'data': [['Tự SX', 100, 150, 200, 250, 300, 350],\n",
       "  ['OS', 200, 250, 300, 350, 400, 450],\n",
       "  ['LK', 300, 350, 400, 450, 500, 550],\n",
       "  ['Dịch vụ', 400, 450, 500, 550, 600, 650],\n",
       "  ['Phí QL', 500, 550, 600, 650, 700, 750],\n",
       "  ['Thương mại', 600, 650, 700, 750, 800, 850],\n",
       "  ['Khác', 700, 750, 800, 850, 900, 950]],\n",
       " 'row_count': 7,\n",
       " 'col_count': 7,\n",
       " 'export_timestamp': '2025-06-14T10:48:23.316Z',\n",
       " 'flattening_applied': True,\n",
       " 'filters_applied': {'nan_rows_hidden': 1, 'redundant_columns_hidden': 1},\n",
       " 'header_matrix': [[{'text': 'Nguồn',\n",
       "    'colspan': 1,\n",
       "    'rowspan': 2,\n",
       "    'position': 0,\n",
       "    'level': 0},\n",
       "   {'text': 'Năm 2024',\n",
       "    'colspan': 6,\n",
       "    'rowspan': 1,\n",
       "    'position': 1,\n",
       "    'level': 0}],\n",
       "  [{'text': 'Tháng 1', 'colspan': 1, 'rowspan': 1, 'position': 1, 'level': 1},\n",
       "   {'text': 'Tháng 2', 'colspan': 1, 'rowspan': 1, 'position': 2, 'level': 1},\n",
       "   {'text': 'Tháng 3', 'colspan': 1, 'rowspan': 1, 'position': 3, 'level': 1},\n",
       "   {'text': 'Tháng 4', 'colspan': 1, 'rowspan': 1, 'position': 4, 'level': 1},\n",
       "   {'text': 'Tháng 5', 'colspan': 1, 'rowspan': 1, 'position': 5, 'level': 1},\n",
       "   {'text': 'Tháng 6',\n",
       "    'colspan': 1,\n",
       "    'rowspan': 1,\n",
       "    'position': 6,\n",
       "    'level': 1}]],\n",
       " 'hierarchical_structure_preserved': True}"
      ]
     },
     "execution_count": 22,
     "metadata": {},
     "output_type": "execute_result"
    }
   ],
   "source": [
    "b"
   ]
  },
  {
   "cell_type": "code",
   "execution_count": 8,
   "metadata": {},
   "outputs": [
    {
     "name": "stdout",
     "output_type": "stream",
     "text": [
      "Collecting plotly\n",
      "  Downloading plotly-6.1.2-py3-none-any.whl.metadata (6.9 kB)\n",
      "Collecting narwhals>=1.15.1 (from plotly)\n",
      "  Downloading narwhals-1.42.1-py3-none-any.whl.metadata (11 kB)\n",
      "Requirement already satisfied: packaging in d:\\download_d\\miniconda\\lib\\site-packages (from plotly) (24.2)\n",
      "Downloading plotly-6.1.2-py3-none-any.whl (16.3 MB)\n",
      "   ---------------------------------------- 0.0/16.3 MB ? eta -:--:--\n",
      "   --------- ------------------------------ 3.7/16.3 MB 26.9 MB/s eta 0:00:01\n",
      "   -------------------------- ------------- 10.7/16.3 MB 31.7 MB/s eta 0:00:01\n",
      "   ---------------------------------------  16.3/16.3 MB 33.1 MB/s eta 0:00:01\n",
      "   ---------------------------------------- 16.3/16.3 MB 28.4 MB/s eta 0:00:00\n",
      "Downloading narwhals-1.42.1-py3-none-any.whl (359 kB)\n",
      "Installing collected packages: narwhals, plotly\n",
      "Successfully installed narwhals-1.42.1 plotly-6.1.2\n"
     ]
    }
   ],
   "source": [
    "!pip install plotly"
   ]
  },
  {
   "cell_type": "code",
   "execution_count": 9,
   "metadata": {},
   "outputs": [
    {
     "ename": "ValueError",
     "evalue": "Mime type rendering requires nbformat>=4.2.0 but it is not installed",
     "output_type": "error",
     "traceback": [
      "\u001b[31m---------------------------------------------------------------------------\u001b[39m",
      "\u001b[31mValueError\u001b[39m                                Traceback (most recent call last)",
      "\u001b[36mFile \u001b[39m\u001b[32md:\\download_D\\miniconda\\Lib\\site-packages\\IPython\\core\\formatters.py:984\u001b[39m, in \u001b[36mIPythonDisplayFormatter.__call__\u001b[39m\u001b[34m(self, obj)\u001b[39m\n\u001b[32m    982\u001b[39m method = get_real_method(obj, \u001b[38;5;28mself\u001b[39m.print_method)\n\u001b[32m    983\u001b[39m \u001b[38;5;28;01mif\u001b[39;00m method \u001b[38;5;129;01mis\u001b[39;00m \u001b[38;5;129;01mnot\u001b[39;00m \u001b[38;5;28;01mNone\u001b[39;00m:\n\u001b[32m--> \u001b[39m\u001b[32m984\u001b[39m     \u001b[43mmethod\u001b[49m\u001b[43m(\u001b[49m\u001b[43m)\u001b[49m\n\u001b[32m    985\u001b[39m     \u001b[38;5;28;01mreturn\u001b[39;00m \u001b[38;5;28;01mTrue\u001b[39;00m\n",
      "\u001b[36mFile \u001b[39m\u001b[32md:\\download_D\\miniconda\\Lib\\site-packages\\plotly\\basedatatypes.py:846\u001b[39m, in \u001b[36mBaseFigure._ipython_display_\u001b[39m\u001b[34m(self)\u001b[39m\n\u001b[32m    843\u001b[39m \u001b[38;5;28;01mimport\u001b[39;00m\u001b[38;5;250m \u001b[39m\u001b[34;01mplotly\u001b[39;00m\u001b[34;01m.\u001b[39;00m\u001b[34;01mio\u001b[39;00m\u001b[38;5;250m \u001b[39m\u001b[38;5;28;01mas\u001b[39;00m\u001b[38;5;250m \u001b[39m\u001b[34;01mpio\u001b[39;00m\n\u001b[32m    845\u001b[39m \u001b[38;5;28;01mif\u001b[39;00m pio.renderers.render_on_display \u001b[38;5;129;01mand\u001b[39;00m pio.renderers.default:\n\u001b[32m--> \u001b[39m\u001b[32m846\u001b[39m     \u001b[43mpio\u001b[49m\u001b[43m.\u001b[49m\u001b[43mshow\u001b[49m\u001b[43m(\u001b[49m\u001b[38;5;28;43mself\u001b[39;49m\u001b[43m)\u001b[49m\n\u001b[32m    847\u001b[39m \u001b[38;5;28;01melse\u001b[39;00m:\n\u001b[32m    848\u001b[39m     \u001b[38;5;28mprint\u001b[39m(\u001b[38;5;28mrepr\u001b[39m(\u001b[38;5;28mself\u001b[39m))\n",
      "\u001b[36mFile \u001b[39m\u001b[32md:\\download_D\\miniconda\\Lib\\site-packages\\plotly\\io\\_renderers.py:425\u001b[39m, in \u001b[36mshow\u001b[39m\u001b[34m(fig, renderer, validate, **kwargs)\u001b[39m\n\u001b[32m    420\u001b[39m     \u001b[38;5;28;01mraise\u001b[39;00m \u001b[38;5;167;01mValueError\u001b[39;00m(\n\u001b[32m    421\u001b[39m         \u001b[33m\"\u001b[39m\u001b[33mMime type rendering requires ipython but it is not installed\u001b[39m\u001b[33m\"\u001b[39m\n\u001b[32m    422\u001b[39m     )\n\u001b[32m    424\u001b[39m \u001b[38;5;28;01mif\u001b[39;00m \u001b[38;5;129;01mnot\u001b[39;00m nbformat \u001b[38;5;129;01mor\u001b[39;00m Version(nbformat.__version__) < Version(\u001b[33m\"\u001b[39m\u001b[33m4.2.0\u001b[39m\u001b[33m\"\u001b[39m):\n\u001b[32m--> \u001b[39m\u001b[32m425\u001b[39m     \u001b[38;5;28;01mraise\u001b[39;00m \u001b[38;5;167;01mValueError\u001b[39;00m(\n\u001b[32m    426\u001b[39m         \u001b[33m\"\u001b[39m\u001b[33mMime type rendering requires nbformat>=4.2.0 but it is not installed\u001b[39m\u001b[33m\"\u001b[39m\n\u001b[32m    427\u001b[39m     )\n\u001b[32m    429\u001b[39m display_jupyter_version_warnings()\n\u001b[32m    431\u001b[39m ipython_display.display(bundle, raw=\u001b[38;5;28;01mTrue\u001b[39;00m)\n",
      "\u001b[31mValueError\u001b[39m: Mime type rendering requires nbformat>=4.2.0 but it is not installed"
     ]
    },
    {
     "data": {
      "application/vnd.plotly.v1+json": {
       "config": {
        "plotlyServerURL": "https://plot.ly"
       },
       "data": [
        {
         "branchvalues": "total",
         "domain": {
          "x": [
           0,
           0.45
          ],
          "y": [
           0.625,
           1
          ]
         },
         "hovertemplate": "labels=%{label}<br>T01 Kế hoạch=%{value}<br>parent=%{parent}<br>id=%{id}<extra></extra>",
         "ids": [
          "DOANH THU/Tổng Doanh thu/Sản xuất/BU01",
          "DOANH THU/Tổng Doanh thu/Sản xuất/BU02",
          "DOANH THU/Tổng Doanh thu/Dịch vụ/BU01",
          "DOANH THU/Tổng Doanh thu/Dịch vụ/BU02",
          "GIÁ VỐN/Giá vốn dự án/Sản xuất/BU01",
          "GIÁ VỐN/Giá vốn dự án/Sản xuất/BU02",
          "GIÁ VỐN/Giá vốn dự án/Dịch vụ/BU01",
          "GIÁ VỐN/Giá vốn dự án/Dịch vụ/BU02",
          "GIÁ VỐN/Chi phí nhàn rỗi/Sản xuất/BU01",
          "GIÁ VỐN/Chi phí nhàn rỗi/Sản xuất/BU02",
          "GIÁ VỐN/Chi phí nhàn rỗi/Dịch vụ/BU01",
          "GIÁ VỐN/Chi phí nhàn rỗi/Dịch vụ/BU02",
          "GIÁ VỐN/Chi phí tài chính/Sản xuất/BU01",
          "GIÁ VỐN/Chi phí tài chính/Sản xuất/BU02",
          "GIÁ VỐN/Chi phí tài chính/Dịch vụ/BU01",
          "GIÁ VỐN/Chi phí tài chính/Dịch vụ/BU02",
          "DOANH THU/Tổng Doanh thu/Sản xuất",
          "DOANH THU/Tổng Doanh thu/Dịch vụ",
          "GIÁ VỐN/Giá vốn dự án/Sản xuất",
          "GIÁ VỐN/Giá vốn dự án/Dịch vụ",
          "GIÁ VỐN/Chi phí nhàn rỗi/Sản xuất",
          "GIÁ VỐN/Chi phí nhàn rỗi/Dịch vụ",
          "GIÁ VỐN/Chi phí tài chính/Sản xuất",
          "GIÁ VỐN/Chi phí tài chính/Dịch vụ",
          "DOANH THU/Tổng Doanh thu",
          "GIÁ VỐN/Giá vốn dự án",
          "GIÁ VỐN/Chi phí nhàn rỗi",
          "GIÁ VỐN/Chi phí tài chính",
          "DOANH THU",
          "GIÁ VỐN"
         ],
         "labels": [
          "BU01",
          "BU02",
          "BU01",
          "BU02",
          "BU01",
          "BU02",
          "BU01",
          "BU02",
          "BU01",
          "BU02",
          "BU01",
          "BU02",
          "BU01",
          "BU02",
          "BU01",
          "BU02",
          "Sản xuất",
          "Dịch vụ",
          "Sản xuất",
          "Dịch vụ",
          "Sản xuất",
          "Dịch vụ",
          "Sản xuất",
          "Dịch vụ",
          "Tổng Doanh thu",
          "Giá vốn dự án",
          "Chi phí nhàn rỗi",
          "Chi phí tài chính",
          "DOANH THU",
          "GIÁ VỐN"
         ],
         "name": "",
         "parents": [
          "DOANH THU/Tổng Doanh thu/Sản xuất",
          "DOANH THU/Tổng Doanh thu/Sản xuất",
          "DOANH THU/Tổng Doanh thu/Dịch vụ",
          "DOANH THU/Tổng Doanh thu/Dịch vụ",
          "GIÁ VỐN/Giá vốn dự án/Sản xuất",
          "GIÁ VỐN/Giá vốn dự án/Sản xuất",
          "GIÁ VỐN/Giá vốn dự án/Dịch vụ",
          "GIÁ VỐN/Giá vốn dự án/Dịch vụ",
          "GIÁ VỐN/Chi phí nhàn rỗi/Sản xuất",
          "GIÁ VỐN/Chi phí nhàn rỗi/Sản xuất",
          "GIÁ VỐN/Chi phí nhàn rỗi/Dịch vụ",
          "GIÁ VỐN/Chi phí nhàn rỗi/Dịch vụ",
          "GIÁ VỐN/Chi phí tài chính/Sản xuất",
          "GIÁ VỐN/Chi phí tài chính/Sản xuất",
          "GIÁ VỐN/Chi phí tài chính/Dịch vụ",
          "GIÁ VỐN/Chi phí tài chính/Dịch vụ",
          "DOANH THU/Tổng Doanh thu",
          "DOANH THU/Tổng Doanh thu",
          "GIÁ VỐN/Giá vốn dự án",
          "GIÁ VỐN/Giá vốn dự án",
          "GIÁ VỐN/Chi phí nhàn rỗi",
          "GIÁ VỐN/Chi phí nhàn rỗi",
          "GIÁ VỐN/Chi phí tài chính",
          "GIÁ VỐN/Chi phí tài chính",
          "DOANH THU",
          "GIÁ VỐN",
          "GIÁ VỐN",
          "GIÁ VỐN",
          "",
          ""
         ],
         "textinfo": "label+percent parent",
         "type": "sunburst",
         "values": {
          "bdata": "AAAAAAAA8D8AAAAAAAAAQAAAAAAAACBAAAAAAAAAIkAAAAAAAAA/QAAAAAAAAEBAAAAAAAAAQ0AAAAAAAIBDQAAAAAAAAE5AAAAAAACATkAAAAAAAMBQQAAAAAAAAFFAAAAAAABAVkAAAAAAAIBWQAAAAAAAAFhAAAAAAABAWEAAAAAAAAAIQAAAAAAAADFAAAAAAACAT0AAAAAAAEBTQAAAAAAAQF5AAAAAAADgYEAAAAAAAGBmQAAAAAAAIGhAAAAAAAAANEAAAAAAAIBhQAAAAAAAAHBAAAAAAABAd0AAAAAAAAA0QAAAAAAAAIhA",
          "dtype": "f8"
         }
        },
        {
         "branchvalues": "total",
         "domain": {
          "x": [
           0.55,
           1
          ],
          "y": [
           0.625,
           1
          ]
         },
         "hovertemplate": "labels=%{label}<br>T01 Thực hiện=%{value}<br>parent=%{parent}<br>id=%{id}<extra></extra>",
         "ids": [
          "DOANH THU/Tổng Doanh thu/Sản xuất/BU01",
          "DOANH THU/Tổng Doanh thu/Sản xuất/BU02",
          "DOANH THU/Tổng Doanh thu/Dịch vụ/BU01",
          "DOANH THU/Tổng Doanh thu/Dịch vụ/BU02",
          "GIÁ VỐN/Giá vốn dự án/Sản xuất/BU01",
          "GIÁ VỐN/Giá vốn dự án/Sản xuất/BU02",
          "GIÁ VỐN/Giá vốn dự án/Dịch vụ/BU01",
          "GIÁ VỐN/Giá vốn dự án/Dịch vụ/BU02",
          "GIÁ VỐN/Chi phí nhàn rỗi/Sản xuất/BU01",
          "GIÁ VỐN/Chi phí nhàn rỗi/Sản xuất/BU02",
          "GIÁ VỐN/Chi phí nhàn rỗi/Dịch vụ/BU01",
          "GIÁ VỐN/Chi phí nhàn rỗi/Dịch vụ/BU02",
          "GIÁ VỐN/Chi phí tài chính/Sản xuất/BU01",
          "GIÁ VỐN/Chi phí tài chính/Sản xuất/BU02",
          "GIÁ VỐN/Chi phí tài chính/Dịch vụ/BU01",
          "GIÁ VỐN/Chi phí tài chính/Dịch vụ/BU02",
          "DOANH THU/Tổng Doanh thu/Sản xuất",
          "DOANH THU/Tổng Doanh thu/Dịch vụ",
          "GIÁ VỐN/Giá vốn dự án/Sản xuất",
          "GIÁ VỐN/Giá vốn dự án/Dịch vụ",
          "GIÁ VỐN/Chi phí nhàn rỗi/Sản xuất",
          "GIÁ VỐN/Chi phí nhàn rỗi/Dịch vụ",
          "GIÁ VỐN/Chi phí tài chính/Sản xuất",
          "GIÁ VỐN/Chi phí tài chính/Dịch vụ",
          "DOANH THU/Tổng Doanh thu",
          "GIÁ VỐN/Giá vốn dự án",
          "GIÁ VỐN/Chi phí nhàn rỗi",
          "GIÁ VỐN/Chi phí tài chính",
          "DOANH THU",
          "GIÁ VỐN"
         ],
         "labels": [
          "BU01",
          "BU02",
          "BU01",
          "BU02",
          "BU01",
          "BU02",
          "BU01",
          "BU02",
          "BU01",
          "BU02",
          "BU01",
          "BU02",
          "BU01",
          "BU02",
          "BU01",
          "BU02",
          "Sản xuất",
          "Dịch vụ",
          "Sản xuất",
          "Dịch vụ",
          "Sản xuất",
          "Dịch vụ",
          "Sản xuất",
          "Dịch vụ",
          "Tổng Doanh thu",
          "Giá vốn dự án",
          "Chi phí nhàn rỗi",
          "Chi phí tài chính",
          "DOANH THU",
          "GIÁ VỐN"
         ],
         "name": "",
         "parents": [
          "DOANH THU/Tổng Doanh thu/Sản xuất",
          "DOANH THU/Tổng Doanh thu/Sản xuất",
          "DOANH THU/Tổng Doanh thu/Dịch vụ",
          "DOANH THU/Tổng Doanh thu/Dịch vụ",
          "GIÁ VỐN/Giá vốn dự án/Sản xuất",
          "GIÁ VỐN/Giá vốn dự án/Sản xuất",
          "GIÁ VỐN/Giá vốn dự án/Dịch vụ",
          "GIÁ VỐN/Giá vốn dự án/Dịch vụ",
          "GIÁ VỐN/Chi phí nhàn rỗi/Sản xuất",
          "GIÁ VỐN/Chi phí nhàn rỗi/Sản xuất",
          "GIÁ VỐN/Chi phí nhàn rỗi/Dịch vụ",
          "GIÁ VỐN/Chi phí nhàn rỗi/Dịch vụ",
          "GIÁ VỐN/Chi phí tài chính/Sản xuất",
          "GIÁ VỐN/Chi phí tài chính/Sản xuất",
          "GIÁ VỐN/Chi phí tài chính/Dịch vụ",
          "GIÁ VỐN/Chi phí tài chính/Dịch vụ",
          "DOANH THU/Tổng Doanh thu",
          "DOANH THU/Tổng Doanh thu",
          "GIÁ VỐN/Giá vốn dự án",
          "GIÁ VỐN/Giá vốn dự án",
          "GIÁ VỐN/Chi phí nhàn rỗi",
          "GIÁ VỐN/Chi phí nhàn rỗi",
          "GIÁ VỐN/Chi phí tài chính",
          "GIÁ VỐN/Chi phí tài chính",
          "DOANH THU",
          "GIÁ VỐN",
          "GIÁ VỐN",
          "GIÁ VỐN",
          "",
          ""
         ],
         "textinfo": "label+percent parent",
         "type": "sunburst",
         "values": {
          "bdata": "AAAAAAAACEAAAAAAAAAYQAAAAAAAADhAAAAAAAAAO0AAAAAAAEBXQAAAAAAAAFhAAAAAAACAXEAAAAAAAEBdQAAAAAAAgGZAAAAAAADgZkAAAAAAACBpQAAAAAAAgGlAAAAAAACwcEAAAAAAAOBwQAAAAAAAAHJAAAAAAAAwckAAAAAAAAAiQAAAAAAAgElAAAAAAACgZ0AAAAAAAOBsQAAAAAAAsHZAAAAAAABQeUAAAAAAAMiAQAAAAAAAGIJAAAAAAAAATkAAAAAAAEB6QAAAAAAAAIhAAAAAAABwkUAAAAAAAABOQAAAAAAAAKJA",
          "dtype": "f8"
         }
        },
        {
         "branchvalues": "total",
         "domain": {
          "x": [
           0,
           0.45
          ],
          "y": [
           0,
           0.375
          ]
         },
         "hovertemplate": "labels=%{label}<br>T02 Kế hoạch=%{value}<br>parent=%{parent}<br>id=%{id}<extra></extra>",
         "ids": [
          "DOANH THU/Tổng Doanh thu/Sản xuất/BU01",
          "DOANH THU/Tổng Doanh thu/Sản xuất/BU02",
          "DOANH THU/Tổng Doanh thu/Dịch vụ/BU01",
          "DOANH THU/Tổng Doanh thu/Dịch vụ/BU02",
          "GIÁ VỐN/Giá vốn dự án/Sản xuất/BU01",
          "GIÁ VỐN/Giá vốn dự án/Sản xuất/BU02",
          "GIÁ VỐN/Giá vốn dự án/Dịch vụ/BU01",
          "GIÁ VỐN/Giá vốn dự án/Dịch vụ/BU02",
          "GIÁ VỐN/Chi phí nhàn rỗi/Sản xuất/BU01",
          "GIÁ VỐN/Chi phí nhàn rỗi/Sản xuất/BU02",
          "GIÁ VỐN/Chi phí nhàn rỗi/Dịch vụ/BU01",
          "GIÁ VỐN/Chi phí nhàn rỗi/Dịch vụ/BU02",
          "GIÁ VỐN/Chi phí tài chính/Sản xuất/BU01",
          "GIÁ VỐN/Chi phí tài chính/Sản xuất/BU02",
          "GIÁ VỐN/Chi phí tài chính/Dịch vụ/BU01",
          "GIÁ VỐN/Chi phí tài chính/Dịch vụ/BU02",
          "DOANH THU/Tổng Doanh thu/Sản xuất",
          "DOANH THU/Tổng Doanh thu/Dịch vụ",
          "GIÁ VỐN/Giá vốn dự án/Sản xuất",
          "GIÁ VỐN/Giá vốn dự án/Dịch vụ",
          "GIÁ VỐN/Chi phí nhàn rỗi/Sản xuất",
          "GIÁ VỐN/Chi phí nhàn rỗi/Dịch vụ",
          "GIÁ VỐN/Chi phí tài chính/Sản xuất",
          "GIÁ VỐN/Chi phí tài chính/Dịch vụ",
          "DOANH THU/Tổng Doanh thu",
          "GIÁ VỐN/Giá vốn dự án",
          "GIÁ VỐN/Chi phí nhàn rỗi",
          "GIÁ VỐN/Chi phí tài chính",
          "DOANH THU",
          "GIÁ VỐN"
         ],
         "labels": [
          "BU01",
          "BU02",
          "BU01",
          "BU02",
          "BU01",
          "BU02",
          "BU01",
          "BU02",
          "BU01",
          "BU02",
          "BU01",
          "BU02",
          "BU01",
          "BU02",
          "BU01",
          "BU02",
          "Sản xuất",
          "Dịch vụ",
          "Sản xuất",
          "Dịch vụ",
          "Sản xuất",
          "Dịch vụ",
          "Sản xuất",
          "Dịch vụ",
          "Tổng Doanh thu",
          "Giá vốn dự án",
          "Chi phí nhàn rỗi",
          "Chi phí tài chính",
          "DOANH THU",
          "GIÁ VỐN"
         ],
         "name": "",
         "parents": [
          "DOANH THU/Tổng Doanh thu/Sản xuất",
          "DOANH THU/Tổng Doanh thu/Sản xuất",
          "DOANH THU/Tổng Doanh thu/Dịch vụ",
          "DOANH THU/Tổng Doanh thu/Dịch vụ",
          "GIÁ VỐN/Giá vốn dự án/Sản xuất",
          "GIÁ VỐN/Giá vốn dự án/Sản xuất",
          "GIÁ VỐN/Giá vốn dự án/Dịch vụ",
          "GIÁ VỐN/Giá vốn dự án/Dịch vụ",
          "GIÁ VỐN/Chi phí nhàn rỗi/Sản xuất",
          "GIÁ VỐN/Chi phí nhàn rỗi/Sản xuất",
          "GIÁ VỐN/Chi phí nhàn rỗi/Dịch vụ",
          "GIÁ VỐN/Chi phí nhàn rỗi/Dịch vụ",
          "GIÁ VỐN/Chi phí tài chính/Sản xuất",
          "GIÁ VỐN/Chi phí tài chính/Sản xuất",
          "GIÁ VỐN/Chi phí tài chính/Dịch vụ",
          "GIÁ VỐN/Chi phí tài chính/Dịch vụ",
          "DOANH THU/Tổng Doanh thu",
          "DOANH THU/Tổng Doanh thu",
          "GIÁ VỐN/Giá vốn dự án",
          "GIÁ VỐN/Giá vốn dự án",
          "GIÁ VỐN/Chi phí nhàn rỗi",
          "GIÁ VỐN/Chi phí nhàn rỗi",
          "GIÁ VỐN/Chi phí tài chính",
          "GIÁ VỐN/Chi phí tài chính",
          "DOANH THU",
          "GIÁ VỐN",
          "GIÁ VỐN",
          "GIÁ VỐN",
          "",
          ""
         ],
         "textinfo": "label+percent parent",
         "type": "sunburst",
         "values": {
          "bdata": "AAAAAAAAFEAAAAAAAAAkQAAAAAAAAERAAAAAAACARkAAAAAAAGBjQAAAAAAAAGRAAAAAAADAZ0AAAAAAAGBoQAAAAAAAwHJAAAAAAAAQc0AAAAAAAPB0QAAAAAAAQHVAAAAAAADQe0AAAAAAACB8QAAAAAAAAH5AAAAAAABQfkAAAAAAAAAuQAAAAAAAQFVAAAAAAACwc0AAAAAAABB4QAAAAAAA6IJAAAAAAAAYhUAAAAAAAPiLQAAAAAAAKI5AAAAAAAAAWUAAAAAAAOCFQAAAAAAAAJRAAAAAAAAQnUAAAAAAAABZQAAAAAAAAK5A",
          "dtype": "f8"
         }
        },
        {
         "branchvalues": "total",
         "domain": {
          "x": [
           0.55,
           1
          ],
          "y": [
           0,
           0.375
          ]
         },
         "hovertemplate": "labels=%{label}<br>T02 Thực hiện=%{value}<br>parent=%{parent}<br>id=%{id}<extra></extra>",
         "ids": [
          "DOANH THU/Tổng Doanh thu/Sản xuất/BU01",
          "DOANH THU/Tổng Doanh thu/Sản xuất/BU02",
          "DOANH THU/Tổng Doanh thu/Dịch vụ/BU01",
          "DOANH THU/Tổng Doanh thu/Dịch vụ/BU02",
          "GIÁ VỐN/Giá vốn dự án/Sản xuất/BU01",
          "GIÁ VỐN/Giá vốn dự án/Sản xuất/BU02",
          "GIÁ VỐN/Giá vốn dự án/Dịch vụ/BU01",
          "GIÁ VỐN/Giá vốn dự án/Dịch vụ/BU02",
          "GIÁ VỐN/Chi phí nhàn rỗi/Sản xuất/BU01",
          "GIÁ VỐN/Chi phí nhàn rỗi/Sản xuất/BU02",
          "GIÁ VỐN/Chi phí nhàn rỗi/Dịch vụ/BU01",
          "GIÁ VỐN/Chi phí nhàn rỗi/Dịch vụ/BU02",
          "GIÁ VỐN/Chi phí tài chính/Sản xuất/BU01",
          "GIÁ VỐN/Chi phí tài chính/Sản xuất/BU02",
          "GIÁ VỐN/Chi phí tài chính/Dịch vụ/BU01",
          "GIÁ VỐN/Chi phí tài chính/Dịch vụ/BU02",
          "DOANH THU/Tổng Doanh thu/Sản xuất",
          "DOANH THU/Tổng Doanh thu/Dịch vụ",
          "GIÁ VỐN/Giá vốn dự án/Sản xuất",
          "GIÁ VỐN/Giá vốn dự án/Dịch vụ",
          "GIÁ VỐN/Chi phí nhàn rỗi/Sản xuất",
          "GIÁ VỐN/Chi phí nhàn rỗi/Dịch vụ",
          "GIÁ VỐN/Chi phí tài chính/Sản xuất",
          "GIÁ VỐN/Chi phí tài chính/Dịch vụ",
          "DOANH THU/Tổng Doanh thu",
          "GIÁ VỐN/Giá vốn dự án",
          "GIÁ VỐN/Chi phí nhàn rỗi",
          "GIÁ VỐN/Chi phí tài chính",
          "DOANH THU",
          "GIÁ VỐN"
         ],
         "labels": [
          "BU01",
          "BU02",
          "BU01",
          "BU02",
          "BU01",
          "BU02",
          "BU01",
          "BU02",
          "BU01",
          "BU02",
          "BU01",
          "BU02",
          "BU01",
          "BU02",
          "BU01",
          "BU02",
          "Sản xuất",
          "Dịch vụ",
          "Sản xuất",
          "Dịch vụ",
          "Sản xuất",
          "Dịch vụ",
          "Sản xuất",
          "Dịch vụ",
          "Tổng Doanh thu",
          "Giá vốn dự án",
          "Chi phí nhàn rỗi",
          "Chi phí tài chính",
          "DOANH THU",
          "GIÁ VỐN"
         ],
         "name": "",
         "parents": [
          "DOANH THU/Tổng Doanh thu/Sản xuất",
          "DOANH THU/Tổng Doanh thu/Sản xuất",
          "DOANH THU/Tổng Doanh thu/Dịch vụ",
          "DOANH THU/Tổng Doanh thu/Dịch vụ",
          "GIÁ VỐN/Giá vốn dự án/Sản xuất",
          "GIÁ VỐN/Giá vốn dự án/Sản xuất",
          "GIÁ VỐN/Giá vốn dự án/Dịch vụ",
          "GIÁ VỐN/Giá vốn dự án/Dịch vụ",
          "GIÁ VỐN/Chi phí nhàn rỗi/Sản xuất",
          "GIÁ VỐN/Chi phí nhàn rỗi/Sản xuất",
          "GIÁ VỐN/Chi phí nhàn rỗi/Dịch vụ",
          "GIÁ VỐN/Chi phí nhàn rỗi/Dịch vụ",
          "GIÁ VỐN/Chi phí tài chính/Sản xuất",
          "GIÁ VỐN/Chi phí tài chính/Sản xuất",
          "GIÁ VỐN/Chi phí tài chính/Dịch vụ",
          "GIÁ VỐN/Chi phí tài chính/Dịch vụ",
          "DOANH THU/Tổng Doanh thu",
          "DOANH THU/Tổng Doanh thu",
          "GIÁ VỐN/Giá vốn dự án",
          "GIÁ VỐN/Giá vốn dự án",
          "GIÁ VỐN/Chi phí nhàn rỗi",
          "GIÁ VỐN/Chi phí nhàn rỗi",
          "GIÁ VỐN/Chi phí tài chính",
          "GIÁ VỐN/Chi phí tài chính",
          "DOANH THU",
          "GIÁ VỐN",
          "GIÁ VỐN",
          "GIÁ VỐN",
          "",
          ""
         ],
         "textinfo": "label+percent parent",
         "type": "sunburst",
         "values": {
          "bdata": "AAAAAAAAHEAAAAAAAAAsQAAAAAAAAExAAAAAAACAT0AAAAAAACBrQAAAAAAAAGxAAAAAAACgcEAAAAAAABBxQAAAAAAAQHpAAAAAAACwekAAAAAAAFB9QAAAAAAAwH1AAAAAAAB4g0AAAAAAALCDQAAAAAAAAIVAAAAAAAA4hUAAAAAAAAA1QAAAAAAAwF1AAAAAAACQe0AAAAAAANiAQAAAAAAAeIpAAAAAAACIjUAAAAAAAJSTQAAAAAAAHJVAAAAAAACAYUAAAAAAAKCOQAAAAAAAAJxAAAAAAABYpEAAAAAAAIBhQAAAAAAAALVA",
          "dtype": "f8"
         }
        }
       ],
       "layout": {
        "annotations": [
         {
          "font": {
           "size": 16
          },
          "showarrow": false,
          "text": "Kế hoạch - Tháng 01",
          "x": 0.225,
          "xanchor": "center",
          "xref": "paper",
          "y": 1,
          "yanchor": "bottom",
          "yref": "paper"
         },
         {
          "font": {
           "size": 16
          },
          "showarrow": false,
          "text": "Thực hiện - Tháng 01",
          "x": 0.775,
          "xanchor": "center",
          "xref": "paper",
          "y": 1,
          "yanchor": "bottom",
          "yref": "paper"
         },
         {
          "font": {
           "size": 16
          },
          "showarrow": false,
          "text": "Kế hoạch - Tháng 02",
          "x": 0.225,
          "xanchor": "center",
          "xref": "paper",
          "y": 0.375,
          "yanchor": "bottom",
          "yref": "paper"
         },
         {
          "font": {
           "size": 16
          },
          "showarrow": false,
          "text": "Thực hiện - Tháng 02",
          "x": 0.775,
          "xanchor": "center",
          "xref": "paper",
          "y": 0.375,
          "yanchor": "bottom",
          "yref": "paper"
         }
        ],
        "font": {
         "family": "Arial, sans-serif"
        },
        "height": 900,
        "template": {
         "data": {
          "bar": [
           {
            "error_x": {
             "color": "#2a3f5f"
            },
            "error_y": {
             "color": "#2a3f5f"
            },
            "marker": {
             "line": {
              "color": "#E5ECF6",
              "width": 0.5
             },
             "pattern": {
              "fillmode": "overlay",
              "size": 10,
              "solidity": 0.2
             }
            },
            "type": "bar"
           }
          ],
          "barpolar": [
           {
            "marker": {
             "line": {
              "color": "#E5ECF6",
              "width": 0.5
             },
             "pattern": {
              "fillmode": "overlay",
              "size": 10,
              "solidity": 0.2
             }
            },
            "type": "barpolar"
           }
          ],
          "carpet": [
           {
            "aaxis": {
             "endlinecolor": "#2a3f5f",
             "gridcolor": "white",
             "linecolor": "white",
             "minorgridcolor": "white",
             "startlinecolor": "#2a3f5f"
            },
            "baxis": {
             "endlinecolor": "#2a3f5f",
             "gridcolor": "white",
             "linecolor": "white",
             "minorgridcolor": "white",
             "startlinecolor": "#2a3f5f"
            },
            "type": "carpet"
           }
          ],
          "choropleth": [
           {
            "colorbar": {
             "outlinewidth": 0,
             "ticks": ""
            },
            "type": "choropleth"
           }
          ],
          "contour": [
           {
            "colorbar": {
             "outlinewidth": 0,
             "ticks": ""
            },
            "colorscale": [
             [
              0,
              "#0d0887"
             ],
             [
              0.1111111111111111,
              "#46039f"
             ],
             [
              0.2222222222222222,
              "#7201a8"
             ],
             [
              0.3333333333333333,
              "#9c179e"
             ],
             [
              0.4444444444444444,
              "#bd3786"
             ],
             [
              0.5555555555555556,
              "#d8576b"
             ],
             [
              0.6666666666666666,
              "#ed7953"
             ],
             [
              0.7777777777777778,
              "#fb9f3a"
             ],
             [
              0.8888888888888888,
              "#fdca26"
             ],
             [
              1,
              "#f0f921"
             ]
            ],
            "type": "contour"
           }
          ],
          "contourcarpet": [
           {
            "colorbar": {
             "outlinewidth": 0,
             "ticks": ""
            },
            "type": "contourcarpet"
           }
          ],
          "heatmap": [
           {
            "colorbar": {
             "outlinewidth": 0,
             "ticks": ""
            },
            "colorscale": [
             [
              0,
              "#0d0887"
             ],
             [
              0.1111111111111111,
              "#46039f"
             ],
             [
              0.2222222222222222,
              "#7201a8"
             ],
             [
              0.3333333333333333,
              "#9c179e"
             ],
             [
              0.4444444444444444,
              "#bd3786"
             ],
             [
              0.5555555555555556,
              "#d8576b"
             ],
             [
              0.6666666666666666,
              "#ed7953"
             ],
             [
              0.7777777777777778,
              "#fb9f3a"
             ],
             [
              0.8888888888888888,
              "#fdca26"
             ],
             [
              1,
              "#f0f921"
             ]
            ],
            "type": "heatmap"
           }
          ],
          "histogram": [
           {
            "marker": {
             "pattern": {
              "fillmode": "overlay",
              "size": 10,
              "solidity": 0.2
             }
            },
            "type": "histogram"
           }
          ],
          "histogram2d": [
           {
            "colorbar": {
             "outlinewidth": 0,
             "ticks": ""
            },
            "colorscale": [
             [
              0,
              "#0d0887"
             ],
             [
              0.1111111111111111,
              "#46039f"
             ],
             [
              0.2222222222222222,
              "#7201a8"
             ],
             [
              0.3333333333333333,
              "#9c179e"
             ],
             [
              0.4444444444444444,
              "#bd3786"
             ],
             [
              0.5555555555555556,
              "#d8576b"
             ],
             [
              0.6666666666666666,
              "#ed7953"
             ],
             [
              0.7777777777777778,
              "#fb9f3a"
             ],
             [
              0.8888888888888888,
              "#fdca26"
             ],
             [
              1,
              "#f0f921"
             ]
            ],
            "type": "histogram2d"
           }
          ],
          "histogram2dcontour": [
           {
            "colorbar": {
             "outlinewidth": 0,
             "ticks": ""
            },
            "colorscale": [
             [
              0,
              "#0d0887"
             ],
             [
              0.1111111111111111,
              "#46039f"
             ],
             [
              0.2222222222222222,
              "#7201a8"
             ],
             [
              0.3333333333333333,
              "#9c179e"
             ],
             [
              0.4444444444444444,
              "#bd3786"
             ],
             [
              0.5555555555555556,
              "#d8576b"
             ],
             [
              0.6666666666666666,
              "#ed7953"
             ],
             [
              0.7777777777777778,
              "#fb9f3a"
             ],
             [
              0.8888888888888888,
              "#fdca26"
             ],
             [
              1,
              "#f0f921"
             ]
            ],
            "type": "histogram2dcontour"
           }
          ],
          "mesh3d": [
           {
            "colorbar": {
             "outlinewidth": 0,
             "ticks": ""
            },
            "type": "mesh3d"
           }
          ],
          "parcoords": [
           {
            "line": {
             "colorbar": {
              "outlinewidth": 0,
              "ticks": ""
             }
            },
            "type": "parcoords"
           }
          ],
          "pie": [
           {
            "automargin": true,
            "type": "pie"
           }
          ],
          "scatter": [
           {
            "fillpattern": {
             "fillmode": "overlay",
             "size": 10,
             "solidity": 0.2
            },
            "type": "scatter"
           }
          ],
          "scatter3d": [
           {
            "line": {
             "colorbar": {
              "outlinewidth": 0,
              "ticks": ""
             }
            },
            "marker": {
             "colorbar": {
              "outlinewidth": 0,
              "ticks": ""
             }
            },
            "type": "scatter3d"
           }
          ],
          "scattercarpet": [
           {
            "marker": {
             "colorbar": {
              "outlinewidth": 0,
              "ticks": ""
             }
            },
            "type": "scattercarpet"
           }
          ],
          "scattergeo": [
           {
            "marker": {
             "colorbar": {
              "outlinewidth": 0,
              "ticks": ""
             }
            },
            "type": "scattergeo"
           }
          ],
          "scattergl": [
           {
            "marker": {
             "colorbar": {
              "outlinewidth": 0,
              "ticks": ""
             }
            },
            "type": "scattergl"
           }
          ],
          "scattermap": [
           {
            "marker": {
             "colorbar": {
              "outlinewidth": 0,
              "ticks": ""
             }
            },
            "type": "scattermap"
           }
          ],
          "scattermapbox": [
           {
            "marker": {
             "colorbar": {
              "outlinewidth": 0,
              "ticks": ""
             }
            },
            "type": "scattermapbox"
           }
          ],
          "scatterpolar": [
           {
            "marker": {
             "colorbar": {
              "outlinewidth": 0,
              "ticks": ""
             }
            },
            "type": "scatterpolar"
           }
          ],
          "scatterpolargl": [
           {
            "marker": {
             "colorbar": {
              "outlinewidth": 0,
              "ticks": ""
             }
            },
            "type": "scatterpolargl"
           }
          ],
          "scatterternary": [
           {
            "marker": {
             "colorbar": {
              "outlinewidth": 0,
              "ticks": ""
             }
            },
            "type": "scatterternary"
           }
          ],
          "surface": [
           {
            "colorbar": {
             "outlinewidth": 0,
             "ticks": ""
            },
            "colorscale": [
             [
              0,
              "#0d0887"
             ],
             [
              0.1111111111111111,
              "#46039f"
             ],
             [
              0.2222222222222222,
              "#7201a8"
             ],
             [
              0.3333333333333333,
              "#9c179e"
             ],
             [
              0.4444444444444444,
              "#bd3786"
             ],
             [
              0.5555555555555556,
              "#d8576b"
             ],
             [
              0.6666666666666666,
              "#ed7953"
             ],
             [
              0.7777777777777778,
              "#fb9f3a"
             ],
             [
              0.8888888888888888,
              "#fdca26"
             ],
             [
              1,
              "#f0f921"
             ]
            ],
            "type": "surface"
           }
          ],
          "table": [
           {
            "cells": {
             "fill": {
              "color": "#EBF0F8"
             },
             "line": {
              "color": "white"
             }
            },
            "header": {
             "fill": {
              "color": "#C8D4E3"
             },
             "line": {
              "color": "white"
             }
            },
            "type": "table"
           }
          ]
         },
         "layout": {
          "annotationdefaults": {
           "arrowcolor": "#2a3f5f",
           "arrowhead": 0,
           "arrowwidth": 1
          },
          "autotypenumbers": "strict",
          "coloraxis": {
           "colorbar": {
            "outlinewidth": 0,
            "ticks": ""
           }
          },
          "colorscale": {
           "diverging": [
            [
             0,
             "#8e0152"
            ],
            [
             0.1,
             "#c51b7d"
            ],
            [
             0.2,
             "#de77ae"
            ],
            [
             0.3,
             "#f1b6da"
            ],
            [
             0.4,
             "#fde0ef"
            ],
            [
             0.5,
             "#f7f7f7"
            ],
            [
             0.6,
             "#e6f5d0"
            ],
            [
             0.7,
             "#b8e186"
            ],
            [
             0.8,
             "#7fbc41"
            ],
            [
             0.9,
             "#4d9221"
            ],
            [
             1,
             "#276419"
            ]
           ],
           "sequential": [
            [
             0,
             "#0d0887"
            ],
            [
             0.1111111111111111,
             "#46039f"
            ],
            [
             0.2222222222222222,
             "#7201a8"
            ],
            [
             0.3333333333333333,
             "#9c179e"
            ],
            [
             0.4444444444444444,
             "#bd3786"
            ],
            [
             0.5555555555555556,
             "#d8576b"
            ],
            [
             0.6666666666666666,
             "#ed7953"
            ],
            [
             0.7777777777777778,
             "#fb9f3a"
            ],
            [
             0.8888888888888888,
             "#fdca26"
            ],
            [
             1,
             "#f0f921"
            ]
           ],
           "sequentialminus": [
            [
             0,
             "#0d0887"
            ],
            [
             0.1111111111111111,
             "#46039f"
            ],
            [
             0.2222222222222222,
             "#7201a8"
            ],
            [
             0.3333333333333333,
             "#9c179e"
            ],
            [
             0.4444444444444444,
             "#bd3786"
            ],
            [
             0.5555555555555556,
             "#d8576b"
            ],
            [
             0.6666666666666666,
             "#ed7953"
            ],
            [
             0.7777777777777778,
             "#fb9f3a"
            ],
            [
             0.8888888888888888,
             "#fdca26"
            ],
            [
             1,
             "#f0f921"
            ]
           ]
          },
          "colorway": [
           "#636efa",
           "#EF553B",
           "#00cc96",
           "#ab63fa",
           "#FFA15A",
           "#19d3f3",
           "#FF6692",
           "#B6E880",
           "#FF97FF",
           "#FECB52"
          ],
          "font": {
           "color": "#2a3f5f"
          },
          "geo": {
           "bgcolor": "white",
           "lakecolor": "white",
           "landcolor": "#E5ECF6",
           "showlakes": true,
           "showland": true,
           "subunitcolor": "white"
          },
          "hoverlabel": {
           "align": "left"
          },
          "hovermode": "closest",
          "mapbox": {
           "style": "light"
          },
          "paper_bgcolor": "white",
          "plot_bgcolor": "#E5ECF6",
          "polar": {
           "angularaxis": {
            "gridcolor": "white",
            "linecolor": "white",
            "ticks": ""
           },
           "bgcolor": "#E5ECF6",
           "radialaxis": {
            "gridcolor": "white",
            "linecolor": "white",
            "ticks": ""
           }
          },
          "scene": {
           "xaxis": {
            "backgroundcolor": "#E5ECF6",
            "gridcolor": "white",
            "gridwidth": 2,
            "linecolor": "white",
            "showbackground": true,
            "ticks": "",
            "zerolinecolor": "white"
           },
           "yaxis": {
            "backgroundcolor": "#E5ECF6",
            "gridcolor": "white",
            "gridwidth": 2,
            "linecolor": "white",
            "showbackground": true,
            "ticks": "",
            "zerolinecolor": "white"
           },
           "zaxis": {
            "backgroundcolor": "#E5ECF6",
            "gridcolor": "white",
            "gridwidth": 2,
            "linecolor": "white",
            "showbackground": true,
            "ticks": "",
            "zerolinecolor": "white"
           }
          },
          "shapedefaults": {
           "line": {
            "color": "#2a3f5f"
           }
          },
          "ternary": {
           "aaxis": {
            "gridcolor": "white",
            "linecolor": "white",
            "ticks": ""
           },
           "baxis": {
            "gridcolor": "white",
            "linecolor": "white",
            "ticks": ""
           },
           "bgcolor": "#E5ECF6",
           "caxis": {
            "gridcolor": "white",
            "linecolor": "white",
            "ticks": ""
           }
          },
          "title": {
           "x": 0.05
          },
          "xaxis": {
           "automargin": true,
           "gridcolor": "white",
           "linecolor": "white",
           "ticks": "",
           "title": {
            "standoff": 15
           },
           "zerolinecolor": "white",
           "zerolinewidth": 2
          },
          "yaxis": {
           "automargin": true,
           "gridcolor": "white",
           "linecolor": "white",
           "ticks": "",
           "title": {
            "standoff": 15
           },
           "zerolinecolor": "white",
           "zerolinewidth": 2
          }
         }
        },
        "title": {
         "font": {
          "size": 24
         },
         "text": "Dashboard Phân tích Tài chính Toàn diện"
        }
       }
      },
      "text/html": [
       "<div>                        <script type=\"text/javascript\">window.PlotlyConfig = {MathJaxConfig: 'local'};</script>\n",
       "        <script charset=\"utf-8\" src=\"https://cdn.plot.ly/plotly-3.0.1.min.js\"></script>                <div id=\"da16799d-3112-4fc8-94ba-bc8012fcddcc\" class=\"plotly-graph-div\" style=\"height:900px; width:100%;\"></div>            <script type=\"text/javascript\">                window.PLOTLYENV=window.PLOTLYENV || {};                                if (document.getElementById(\"da16799d-3112-4fc8-94ba-bc8012fcddcc\")) {                    Plotly.newPlot(                        \"da16799d-3112-4fc8-94ba-bc8012fcddcc\",                        [{\"branchvalues\":\"total\",\"domain\":{\"x\":[0.0,0.45],\"y\":[0.625,1.0]},\"hovertemplate\":\"labels=%{label}\\u003cbr\\u003eT01 Kế hoạch=%{value}\\u003cbr\\u003eparent=%{parent}\\u003cbr\\u003eid=%{id}\\u003cextra\\u003e\\u003c\\u002fextra\\u003e\",\"ids\":[\"DOANH THU\\u002fTổng Doanh thu\\u002fSản xuất\\u002fBU01\",\"DOANH THU\\u002fTổng Doanh thu\\u002fSản xuất\\u002fBU02\",\"DOANH THU\\u002fTổng Doanh thu\\u002fDịch vụ\\u002fBU01\",\"DOANH THU\\u002fTổng Doanh thu\\u002fDịch vụ\\u002fBU02\",\"GIÁ VỐN\\u002fGiá vốn dự án\\u002fSản xuất\\u002fBU01\",\"GIÁ VỐN\\u002fGiá vốn dự án\\u002fSản xuất\\u002fBU02\",\"GIÁ VỐN\\u002fGiá vốn dự án\\u002fDịch vụ\\u002fBU01\",\"GIÁ VỐN\\u002fGiá vốn dự án\\u002fDịch vụ\\u002fBU02\",\"GIÁ VỐN\\u002fChi phí nhàn rỗi\\u002fSản xuất\\u002fBU01\",\"GIÁ VỐN\\u002fChi phí nhàn rỗi\\u002fSản xuất\\u002fBU02\",\"GIÁ VỐN\\u002fChi phí nhàn rỗi\\u002fDịch vụ\\u002fBU01\",\"GIÁ VỐN\\u002fChi phí nhàn rỗi\\u002fDịch vụ\\u002fBU02\",\"GIÁ VỐN\\u002fChi phí tài chính\\u002fSản xuất\\u002fBU01\",\"GIÁ VỐN\\u002fChi phí tài chính\\u002fSản xuất\\u002fBU02\",\"GIÁ VỐN\\u002fChi phí tài chính\\u002fDịch vụ\\u002fBU01\",\"GIÁ VỐN\\u002fChi phí tài chính\\u002fDịch vụ\\u002fBU02\",\"DOANH THU\\u002fTổng Doanh thu\\u002fSản xuất\",\"DOANH THU\\u002fTổng Doanh thu\\u002fDịch vụ\",\"GIÁ VỐN\\u002fGiá vốn dự án\\u002fSản xuất\",\"GIÁ VỐN\\u002fGiá vốn dự án\\u002fDịch vụ\",\"GIÁ VỐN\\u002fChi phí nhàn rỗi\\u002fSản xuất\",\"GIÁ VỐN\\u002fChi phí nhàn rỗi\\u002fDịch vụ\",\"GIÁ VỐN\\u002fChi phí tài chính\\u002fSản xuất\",\"GIÁ VỐN\\u002fChi phí tài chính\\u002fDịch vụ\",\"DOANH THU\\u002fTổng Doanh thu\",\"GIÁ VỐN\\u002fGiá vốn dự án\",\"GIÁ VỐN\\u002fChi phí nhàn rỗi\",\"GIÁ VỐN\\u002fChi phí tài chính\",\"DOANH THU\",\"GIÁ VỐN\"],\"labels\":[\"BU01\",\"BU02\",\"BU01\",\"BU02\",\"BU01\",\"BU02\",\"BU01\",\"BU02\",\"BU01\",\"BU02\",\"BU01\",\"BU02\",\"BU01\",\"BU02\",\"BU01\",\"BU02\",\"Sản xuất\",\"Dịch vụ\",\"Sản xuất\",\"Dịch vụ\",\"Sản xuất\",\"Dịch vụ\",\"Sản xuất\",\"Dịch vụ\",\"Tổng Doanh thu\",\"Giá vốn dự án\",\"Chi phí nhàn rỗi\",\"Chi phí tài chính\",\"DOANH THU\",\"GIÁ VỐN\"],\"name\":\"\",\"parents\":[\"DOANH THU\\u002fTổng Doanh thu\\u002fSản xuất\",\"DOANH THU\\u002fTổng Doanh thu\\u002fSản xuất\",\"DOANH THU\\u002fTổng Doanh thu\\u002fDịch vụ\",\"DOANH THU\\u002fTổng Doanh thu\\u002fDịch vụ\",\"GIÁ VỐN\\u002fGiá vốn dự án\\u002fSản xuất\",\"GIÁ VỐN\\u002fGiá vốn dự án\\u002fSản xuất\",\"GIÁ VỐN\\u002fGiá vốn dự án\\u002fDịch vụ\",\"GIÁ VỐN\\u002fGiá vốn dự án\\u002fDịch vụ\",\"GIÁ VỐN\\u002fChi phí nhàn rỗi\\u002fSản xuất\",\"GIÁ VỐN\\u002fChi phí nhàn rỗi\\u002fSản xuất\",\"GIÁ VỐN\\u002fChi phí nhàn rỗi\\u002fDịch vụ\",\"GIÁ VỐN\\u002fChi phí nhàn rỗi\\u002fDịch vụ\",\"GIÁ VỐN\\u002fChi phí tài chính\\u002fSản xuất\",\"GIÁ VỐN\\u002fChi phí tài chính\\u002fSản xuất\",\"GIÁ VỐN\\u002fChi phí tài chính\\u002fDịch vụ\",\"GIÁ VỐN\\u002fChi phí tài chính\\u002fDịch vụ\",\"DOANH THU\\u002fTổng Doanh thu\",\"DOANH THU\\u002fTổng Doanh thu\",\"GIÁ VỐN\\u002fGiá vốn dự án\",\"GIÁ VỐN\\u002fGiá vốn dự án\",\"GIÁ VỐN\\u002fChi phí nhàn rỗi\",\"GIÁ VỐN\\u002fChi phí nhàn rỗi\",\"GIÁ VỐN\\u002fChi phí tài chính\",\"GIÁ VỐN\\u002fChi phí tài chính\",\"DOANH THU\",\"GIÁ VỐN\",\"GIÁ VỐN\",\"GIÁ VỐN\",\"\",\"\"],\"values\":{\"dtype\":\"f8\",\"bdata\":\"AAAAAAAA8D8AAAAAAAAAQAAAAAAAACBAAAAAAAAAIkAAAAAAAAA\\u002fQAAAAAAAAEBAAAAAAAAAQ0AAAAAAAIBDQAAAAAAAAE5AAAAAAACATkAAAAAAAMBQQAAAAAAAAFFAAAAAAABAVkAAAAAAAIBWQAAAAAAAAFhAAAAAAABAWEAAAAAAAAAIQAAAAAAAADFAAAAAAACAT0AAAAAAAEBTQAAAAAAAQF5AAAAAAADgYEAAAAAAAGBmQAAAAAAAIGhAAAAAAAAANEAAAAAAAIBhQAAAAAAAAHBAAAAAAABAd0AAAAAAAAA0QAAAAAAAAIhA\"},\"type\":\"sunburst\",\"textinfo\":\"label+percent parent\"},{\"branchvalues\":\"total\",\"domain\":{\"x\":[0.55,1.0],\"y\":[0.625,1.0]},\"hovertemplate\":\"labels=%{label}\\u003cbr\\u003eT01 Thực hiện=%{value}\\u003cbr\\u003eparent=%{parent}\\u003cbr\\u003eid=%{id}\\u003cextra\\u003e\\u003c\\u002fextra\\u003e\",\"ids\":[\"DOANH THU\\u002fTổng Doanh thu\\u002fSản xuất\\u002fBU01\",\"DOANH THU\\u002fTổng Doanh thu\\u002fSản xuất\\u002fBU02\",\"DOANH THU\\u002fTổng Doanh thu\\u002fDịch vụ\\u002fBU01\",\"DOANH THU\\u002fTổng Doanh thu\\u002fDịch vụ\\u002fBU02\",\"GIÁ VỐN\\u002fGiá vốn dự án\\u002fSản xuất\\u002fBU01\",\"GIÁ VỐN\\u002fGiá vốn dự án\\u002fSản xuất\\u002fBU02\",\"GIÁ VỐN\\u002fGiá vốn dự án\\u002fDịch vụ\\u002fBU01\",\"GIÁ VỐN\\u002fGiá vốn dự án\\u002fDịch vụ\\u002fBU02\",\"GIÁ VỐN\\u002fChi phí nhàn rỗi\\u002fSản xuất\\u002fBU01\",\"GIÁ VỐN\\u002fChi phí nhàn rỗi\\u002fSản xuất\\u002fBU02\",\"GIÁ VỐN\\u002fChi phí nhàn rỗi\\u002fDịch vụ\\u002fBU01\",\"GIÁ VỐN\\u002fChi phí nhàn rỗi\\u002fDịch vụ\\u002fBU02\",\"GIÁ VỐN\\u002fChi phí tài chính\\u002fSản xuất\\u002fBU01\",\"GIÁ VỐN\\u002fChi phí tài chính\\u002fSản xuất\\u002fBU02\",\"GIÁ VỐN\\u002fChi phí tài chính\\u002fDịch vụ\\u002fBU01\",\"GIÁ VỐN\\u002fChi phí tài chính\\u002fDịch vụ\\u002fBU02\",\"DOANH THU\\u002fTổng Doanh thu\\u002fSản xuất\",\"DOANH THU\\u002fTổng Doanh thu\\u002fDịch vụ\",\"GIÁ VỐN\\u002fGiá vốn dự án\\u002fSản xuất\",\"GIÁ VỐN\\u002fGiá vốn dự án\\u002fDịch vụ\",\"GIÁ VỐN\\u002fChi phí nhàn rỗi\\u002fSản xuất\",\"GIÁ VỐN\\u002fChi phí nhàn rỗi\\u002fDịch vụ\",\"GIÁ VỐN\\u002fChi phí tài chính\\u002fSản xuất\",\"GIÁ VỐN\\u002fChi phí tài chính\\u002fDịch vụ\",\"DOANH THU\\u002fTổng Doanh thu\",\"GIÁ VỐN\\u002fGiá vốn dự án\",\"GIÁ VỐN\\u002fChi phí nhàn rỗi\",\"GIÁ VỐN\\u002fChi phí tài chính\",\"DOANH THU\",\"GIÁ VỐN\"],\"labels\":[\"BU01\",\"BU02\",\"BU01\",\"BU02\",\"BU01\",\"BU02\",\"BU01\",\"BU02\",\"BU01\",\"BU02\",\"BU01\",\"BU02\",\"BU01\",\"BU02\",\"BU01\",\"BU02\",\"Sản xuất\",\"Dịch vụ\",\"Sản xuất\",\"Dịch vụ\",\"Sản xuất\",\"Dịch vụ\",\"Sản xuất\",\"Dịch vụ\",\"Tổng Doanh thu\",\"Giá vốn dự án\",\"Chi phí nhàn rỗi\",\"Chi phí tài chính\",\"DOANH THU\",\"GIÁ VỐN\"],\"name\":\"\",\"parents\":[\"DOANH THU\\u002fTổng Doanh thu\\u002fSản xuất\",\"DOANH THU\\u002fTổng Doanh thu\\u002fSản xuất\",\"DOANH THU\\u002fTổng Doanh thu\\u002fDịch vụ\",\"DOANH THU\\u002fTổng Doanh thu\\u002fDịch vụ\",\"GIÁ VỐN\\u002fGiá vốn dự án\\u002fSản xuất\",\"GIÁ VỐN\\u002fGiá vốn dự án\\u002fSản xuất\",\"GIÁ VỐN\\u002fGiá vốn dự án\\u002fDịch vụ\",\"GIÁ VỐN\\u002fGiá vốn dự án\\u002fDịch vụ\",\"GIÁ VỐN\\u002fChi phí nhàn rỗi\\u002fSản xuất\",\"GIÁ VỐN\\u002fChi phí nhàn rỗi\\u002fSản xuất\",\"GIÁ VỐN\\u002fChi phí nhàn rỗi\\u002fDịch vụ\",\"GIÁ VỐN\\u002fChi phí nhàn rỗi\\u002fDịch vụ\",\"GIÁ VỐN\\u002fChi phí tài chính\\u002fSản xuất\",\"GIÁ VỐN\\u002fChi phí tài chính\\u002fSản xuất\",\"GIÁ VỐN\\u002fChi phí tài chính\\u002fDịch vụ\",\"GIÁ VỐN\\u002fChi phí tài chính\\u002fDịch vụ\",\"DOANH THU\\u002fTổng Doanh thu\",\"DOANH THU\\u002fTổng Doanh thu\",\"GIÁ VỐN\\u002fGiá vốn dự án\",\"GIÁ VỐN\\u002fGiá vốn dự án\",\"GIÁ VỐN\\u002fChi phí nhàn rỗi\",\"GIÁ VỐN\\u002fChi phí nhàn rỗi\",\"GIÁ VỐN\\u002fChi phí tài chính\",\"GIÁ VỐN\\u002fChi phí tài chính\",\"DOANH THU\",\"GIÁ VỐN\",\"GIÁ VỐN\",\"GIÁ VỐN\",\"\",\"\"],\"values\":{\"dtype\":\"f8\",\"bdata\":\"AAAAAAAACEAAAAAAAAAYQAAAAAAAADhAAAAAAAAAO0AAAAAAAEBXQAAAAAAAAFhAAAAAAACAXEAAAAAAAEBdQAAAAAAAgGZAAAAAAADgZkAAAAAAACBpQAAAAAAAgGlAAAAAAACwcEAAAAAAAOBwQAAAAAAAAHJAAAAAAAAwckAAAAAAAAAiQAAAAAAAgElAAAAAAACgZ0AAAAAAAOBsQAAAAAAAsHZAAAAAAABQeUAAAAAAAMiAQAAAAAAAGIJAAAAAAAAATkAAAAAAAEB6QAAAAAAAAIhAAAAAAABwkUAAAAAAAABOQAAAAAAAAKJA\"},\"type\":\"sunburst\",\"textinfo\":\"label+percent parent\"},{\"branchvalues\":\"total\",\"domain\":{\"x\":[0.0,0.45],\"y\":[0.0,0.375]},\"hovertemplate\":\"labels=%{label}\\u003cbr\\u003eT02 Kế hoạch=%{value}\\u003cbr\\u003eparent=%{parent}\\u003cbr\\u003eid=%{id}\\u003cextra\\u003e\\u003c\\u002fextra\\u003e\",\"ids\":[\"DOANH THU\\u002fTổng Doanh thu\\u002fSản xuất\\u002fBU01\",\"DOANH THU\\u002fTổng Doanh thu\\u002fSản xuất\\u002fBU02\",\"DOANH THU\\u002fTổng Doanh thu\\u002fDịch vụ\\u002fBU01\",\"DOANH THU\\u002fTổng Doanh thu\\u002fDịch vụ\\u002fBU02\",\"GIÁ VỐN\\u002fGiá vốn dự án\\u002fSản xuất\\u002fBU01\",\"GIÁ VỐN\\u002fGiá vốn dự án\\u002fSản xuất\\u002fBU02\",\"GIÁ VỐN\\u002fGiá vốn dự án\\u002fDịch vụ\\u002fBU01\",\"GIÁ VỐN\\u002fGiá vốn dự án\\u002fDịch vụ\\u002fBU02\",\"GIÁ VỐN\\u002fChi phí nhàn rỗi\\u002fSản xuất\\u002fBU01\",\"GIÁ VỐN\\u002fChi phí nhàn rỗi\\u002fSản xuất\\u002fBU02\",\"GIÁ VỐN\\u002fChi phí nhàn rỗi\\u002fDịch vụ\\u002fBU01\",\"GIÁ VỐN\\u002fChi phí nhàn rỗi\\u002fDịch vụ\\u002fBU02\",\"GIÁ VỐN\\u002fChi phí tài chính\\u002fSản xuất\\u002fBU01\",\"GIÁ VỐN\\u002fChi phí tài chính\\u002fSản xuất\\u002fBU02\",\"GIÁ VỐN\\u002fChi phí tài chính\\u002fDịch vụ\\u002fBU01\",\"GIÁ VỐN\\u002fChi phí tài chính\\u002fDịch vụ\\u002fBU02\",\"DOANH THU\\u002fTổng Doanh thu\\u002fSản xuất\",\"DOANH THU\\u002fTổng Doanh thu\\u002fDịch vụ\",\"GIÁ VỐN\\u002fGiá vốn dự án\\u002fSản xuất\",\"GIÁ VỐN\\u002fGiá vốn dự án\\u002fDịch vụ\",\"GIÁ VỐN\\u002fChi phí nhàn rỗi\\u002fSản xuất\",\"GIÁ VỐN\\u002fChi phí nhàn rỗi\\u002fDịch vụ\",\"GIÁ VỐN\\u002fChi phí tài chính\\u002fSản xuất\",\"GIÁ VỐN\\u002fChi phí tài chính\\u002fDịch vụ\",\"DOANH THU\\u002fTổng Doanh thu\",\"GIÁ VỐN\\u002fGiá vốn dự án\",\"GIÁ VỐN\\u002fChi phí nhàn rỗi\",\"GIÁ VỐN\\u002fChi phí tài chính\",\"DOANH THU\",\"GIÁ VỐN\"],\"labels\":[\"BU01\",\"BU02\",\"BU01\",\"BU02\",\"BU01\",\"BU02\",\"BU01\",\"BU02\",\"BU01\",\"BU02\",\"BU01\",\"BU02\",\"BU01\",\"BU02\",\"BU01\",\"BU02\",\"Sản xuất\",\"Dịch vụ\",\"Sản xuất\",\"Dịch vụ\",\"Sản xuất\",\"Dịch vụ\",\"Sản xuất\",\"Dịch vụ\",\"Tổng Doanh thu\",\"Giá vốn dự án\",\"Chi phí nhàn rỗi\",\"Chi phí tài chính\",\"DOANH THU\",\"GIÁ VỐN\"],\"name\":\"\",\"parents\":[\"DOANH THU\\u002fTổng Doanh thu\\u002fSản xuất\",\"DOANH THU\\u002fTổng Doanh thu\\u002fSản xuất\",\"DOANH THU\\u002fTổng Doanh thu\\u002fDịch vụ\",\"DOANH THU\\u002fTổng Doanh thu\\u002fDịch vụ\",\"GIÁ VỐN\\u002fGiá vốn dự án\\u002fSản xuất\",\"GIÁ VỐN\\u002fGiá vốn dự án\\u002fSản xuất\",\"GIÁ VỐN\\u002fGiá vốn dự án\\u002fDịch vụ\",\"GIÁ VỐN\\u002fGiá vốn dự án\\u002fDịch vụ\",\"GIÁ VỐN\\u002fChi phí nhàn rỗi\\u002fSản xuất\",\"GIÁ VỐN\\u002fChi phí nhàn rỗi\\u002fSản xuất\",\"GIÁ VỐN\\u002fChi phí nhàn rỗi\\u002fDịch vụ\",\"GIÁ VỐN\\u002fChi phí nhàn rỗi\\u002fDịch vụ\",\"GIÁ VỐN\\u002fChi phí tài chính\\u002fSản xuất\",\"GIÁ VỐN\\u002fChi phí tài chính\\u002fSản xuất\",\"GIÁ VỐN\\u002fChi phí tài chính\\u002fDịch vụ\",\"GIÁ VỐN\\u002fChi phí tài chính\\u002fDịch vụ\",\"DOANH THU\\u002fTổng Doanh thu\",\"DOANH THU\\u002fTổng Doanh thu\",\"GIÁ VỐN\\u002fGiá vốn dự án\",\"GIÁ VỐN\\u002fGiá vốn dự án\",\"GIÁ VỐN\\u002fChi phí nhàn rỗi\",\"GIÁ VỐN\\u002fChi phí nhàn rỗi\",\"GIÁ VỐN\\u002fChi phí tài chính\",\"GIÁ VỐN\\u002fChi phí tài chính\",\"DOANH THU\",\"GIÁ VỐN\",\"GIÁ VỐN\",\"GIÁ VỐN\",\"\",\"\"],\"values\":{\"dtype\":\"f8\",\"bdata\":\"AAAAAAAAFEAAAAAAAAAkQAAAAAAAAERAAAAAAACARkAAAAAAAGBjQAAAAAAAAGRAAAAAAADAZ0AAAAAAAGBoQAAAAAAAwHJAAAAAAAAQc0AAAAAAAPB0QAAAAAAAQHVAAAAAAADQe0AAAAAAACB8QAAAAAAAAH5AAAAAAABQfkAAAAAAAAAuQAAAAAAAQFVAAAAAAACwc0AAAAAAABB4QAAAAAAA6IJAAAAAAAAYhUAAAAAAAPiLQAAAAAAAKI5AAAAAAAAAWUAAAAAAAOCFQAAAAAAAAJRAAAAAAAAQnUAAAAAAAABZQAAAAAAAAK5A\"},\"type\":\"sunburst\",\"textinfo\":\"label+percent parent\"},{\"branchvalues\":\"total\",\"domain\":{\"x\":[0.55,1.0],\"y\":[0.0,0.375]},\"hovertemplate\":\"labels=%{label}\\u003cbr\\u003eT02 Thực hiện=%{value}\\u003cbr\\u003eparent=%{parent}\\u003cbr\\u003eid=%{id}\\u003cextra\\u003e\\u003c\\u002fextra\\u003e\",\"ids\":[\"DOANH THU\\u002fTổng Doanh thu\\u002fSản xuất\\u002fBU01\",\"DOANH THU\\u002fTổng Doanh thu\\u002fSản xuất\\u002fBU02\",\"DOANH THU\\u002fTổng Doanh thu\\u002fDịch vụ\\u002fBU01\",\"DOANH THU\\u002fTổng Doanh thu\\u002fDịch vụ\\u002fBU02\",\"GIÁ VỐN\\u002fGiá vốn dự án\\u002fSản xuất\\u002fBU01\",\"GIÁ VỐN\\u002fGiá vốn dự án\\u002fSản xuất\\u002fBU02\",\"GIÁ VỐN\\u002fGiá vốn dự án\\u002fDịch vụ\\u002fBU01\",\"GIÁ VỐN\\u002fGiá vốn dự án\\u002fDịch vụ\\u002fBU02\",\"GIÁ VỐN\\u002fChi phí nhàn rỗi\\u002fSản xuất\\u002fBU01\",\"GIÁ VỐN\\u002fChi phí nhàn rỗi\\u002fSản xuất\\u002fBU02\",\"GIÁ VỐN\\u002fChi phí nhàn rỗi\\u002fDịch vụ\\u002fBU01\",\"GIÁ VỐN\\u002fChi phí nhàn rỗi\\u002fDịch vụ\\u002fBU02\",\"GIÁ VỐN\\u002fChi phí tài chính\\u002fSản xuất\\u002fBU01\",\"GIÁ VỐN\\u002fChi phí tài chính\\u002fSản xuất\\u002fBU02\",\"GIÁ VỐN\\u002fChi phí tài chính\\u002fDịch vụ\\u002fBU01\",\"GIÁ VỐN\\u002fChi phí tài chính\\u002fDịch vụ\\u002fBU02\",\"DOANH THU\\u002fTổng Doanh thu\\u002fSản xuất\",\"DOANH THU\\u002fTổng Doanh thu\\u002fDịch vụ\",\"GIÁ VỐN\\u002fGiá vốn dự án\\u002fSản xuất\",\"GIÁ VỐN\\u002fGiá vốn dự án\\u002fDịch vụ\",\"GIÁ VỐN\\u002fChi phí nhàn rỗi\\u002fSản xuất\",\"GIÁ VỐN\\u002fChi phí nhàn rỗi\\u002fDịch vụ\",\"GIÁ VỐN\\u002fChi phí tài chính\\u002fSản xuất\",\"GIÁ VỐN\\u002fChi phí tài chính\\u002fDịch vụ\",\"DOANH THU\\u002fTổng Doanh thu\",\"GIÁ VỐN\\u002fGiá vốn dự án\",\"GIÁ VỐN\\u002fChi phí nhàn rỗi\",\"GIÁ VỐN\\u002fChi phí tài chính\",\"DOANH THU\",\"GIÁ VỐN\"],\"labels\":[\"BU01\",\"BU02\",\"BU01\",\"BU02\",\"BU01\",\"BU02\",\"BU01\",\"BU02\",\"BU01\",\"BU02\",\"BU01\",\"BU02\",\"BU01\",\"BU02\",\"BU01\",\"BU02\",\"Sản xuất\",\"Dịch vụ\",\"Sản xuất\",\"Dịch vụ\",\"Sản xuất\",\"Dịch vụ\",\"Sản xuất\",\"Dịch vụ\",\"Tổng Doanh thu\",\"Giá vốn dự án\",\"Chi phí nhàn rỗi\",\"Chi phí tài chính\",\"DOANH THU\",\"GIÁ VỐN\"],\"name\":\"\",\"parents\":[\"DOANH THU\\u002fTổng Doanh thu\\u002fSản xuất\",\"DOANH THU\\u002fTổng Doanh thu\\u002fSản xuất\",\"DOANH THU\\u002fTổng Doanh thu\\u002fDịch vụ\",\"DOANH THU\\u002fTổng Doanh thu\\u002fDịch vụ\",\"GIÁ VỐN\\u002fGiá vốn dự án\\u002fSản xuất\",\"GIÁ VỐN\\u002fGiá vốn dự án\\u002fSản xuất\",\"GIÁ VỐN\\u002fGiá vốn dự án\\u002fDịch vụ\",\"GIÁ VỐN\\u002fGiá vốn dự án\\u002fDịch vụ\",\"GIÁ VỐN\\u002fChi phí nhàn rỗi\\u002fSản xuất\",\"GIÁ VỐN\\u002fChi phí nhàn rỗi\\u002fSản xuất\",\"GIÁ VỐN\\u002fChi phí nhàn rỗi\\u002fDịch vụ\",\"GIÁ VỐN\\u002fChi phí nhàn rỗi\\u002fDịch vụ\",\"GIÁ VỐN\\u002fChi phí tài chính\\u002fSản xuất\",\"GIÁ VỐN\\u002fChi phí tài chính\\u002fSản xuất\",\"GIÁ VỐN\\u002fChi phí tài chính\\u002fDịch vụ\",\"GIÁ VỐN\\u002fChi phí tài chính\\u002fDịch vụ\",\"DOANH THU\\u002fTổng Doanh thu\",\"DOANH THU\\u002fTổng Doanh thu\",\"GIÁ VỐN\\u002fGiá vốn dự án\",\"GIÁ VỐN\\u002fGiá vốn dự án\",\"GIÁ VỐN\\u002fChi phí nhàn rỗi\",\"GIÁ VỐN\\u002fChi phí nhàn rỗi\",\"GIÁ VỐN\\u002fChi phí tài chính\",\"GIÁ VỐN\\u002fChi phí tài chính\",\"DOANH THU\",\"GIÁ VỐN\",\"GIÁ VỐN\",\"GIÁ VỐN\",\"\",\"\"],\"values\":{\"dtype\":\"f8\",\"bdata\":\"AAAAAAAAHEAAAAAAAAAsQAAAAAAAAExAAAAAAACAT0AAAAAAACBrQAAAAAAAAGxAAAAAAACgcEAAAAAAABBxQAAAAAAAQHpAAAAAAACwekAAAAAAAFB9QAAAAAAAwH1AAAAAAAB4g0AAAAAAALCDQAAAAAAAAIVAAAAAAAA4hUAAAAAAAAA1QAAAAAAAwF1AAAAAAACQe0AAAAAAANiAQAAAAAAAeIpAAAAAAACIjUAAAAAAAJSTQAAAAAAAHJVAAAAAAACAYUAAAAAAAKCOQAAAAAAAAJxAAAAAAABYpEAAAAAAAIBhQAAAAAAAALVA\"},\"type\":\"sunburst\",\"textinfo\":\"label+percent parent\"}],                        {\"template\":{\"data\":{\"histogram2dcontour\":[{\"type\":\"histogram2dcontour\",\"colorbar\":{\"outlinewidth\":0,\"ticks\":\"\"},\"colorscale\":[[0.0,\"#0d0887\"],[0.1111111111111111,\"#46039f\"],[0.2222222222222222,\"#7201a8\"],[0.3333333333333333,\"#9c179e\"],[0.4444444444444444,\"#bd3786\"],[0.5555555555555556,\"#d8576b\"],[0.6666666666666666,\"#ed7953\"],[0.7777777777777778,\"#fb9f3a\"],[0.8888888888888888,\"#fdca26\"],[1.0,\"#f0f921\"]]}],\"choropleth\":[{\"type\":\"choropleth\",\"colorbar\":{\"outlinewidth\":0,\"ticks\":\"\"}}],\"histogram2d\":[{\"type\":\"histogram2d\",\"colorbar\":{\"outlinewidth\":0,\"ticks\":\"\"},\"colorscale\":[[0.0,\"#0d0887\"],[0.1111111111111111,\"#46039f\"],[0.2222222222222222,\"#7201a8\"],[0.3333333333333333,\"#9c179e\"],[0.4444444444444444,\"#bd3786\"],[0.5555555555555556,\"#d8576b\"],[0.6666666666666666,\"#ed7953\"],[0.7777777777777778,\"#fb9f3a\"],[0.8888888888888888,\"#fdca26\"],[1.0,\"#f0f921\"]]}],\"heatmap\":[{\"type\":\"heatmap\",\"colorbar\":{\"outlinewidth\":0,\"ticks\":\"\"},\"colorscale\":[[0.0,\"#0d0887\"],[0.1111111111111111,\"#46039f\"],[0.2222222222222222,\"#7201a8\"],[0.3333333333333333,\"#9c179e\"],[0.4444444444444444,\"#bd3786\"],[0.5555555555555556,\"#d8576b\"],[0.6666666666666666,\"#ed7953\"],[0.7777777777777778,\"#fb9f3a\"],[0.8888888888888888,\"#fdca26\"],[1.0,\"#f0f921\"]]}],\"contourcarpet\":[{\"type\":\"contourcarpet\",\"colorbar\":{\"outlinewidth\":0,\"ticks\":\"\"}}],\"contour\":[{\"type\":\"contour\",\"colorbar\":{\"outlinewidth\":0,\"ticks\":\"\"},\"colorscale\":[[0.0,\"#0d0887\"],[0.1111111111111111,\"#46039f\"],[0.2222222222222222,\"#7201a8\"],[0.3333333333333333,\"#9c179e\"],[0.4444444444444444,\"#bd3786\"],[0.5555555555555556,\"#d8576b\"],[0.6666666666666666,\"#ed7953\"],[0.7777777777777778,\"#fb9f3a\"],[0.8888888888888888,\"#fdca26\"],[1.0,\"#f0f921\"]]}],\"surface\":[{\"type\":\"surface\",\"colorbar\":{\"outlinewidth\":0,\"ticks\":\"\"},\"colorscale\":[[0.0,\"#0d0887\"],[0.1111111111111111,\"#46039f\"],[0.2222222222222222,\"#7201a8\"],[0.3333333333333333,\"#9c179e\"],[0.4444444444444444,\"#bd3786\"],[0.5555555555555556,\"#d8576b\"],[0.6666666666666666,\"#ed7953\"],[0.7777777777777778,\"#fb9f3a\"],[0.8888888888888888,\"#fdca26\"],[1.0,\"#f0f921\"]]}],\"mesh3d\":[{\"type\":\"mesh3d\",\"colorbar\":{\"outlinewidth\":0,\"ticks\":\"\"}}],\"scatter\":[{\"fillpattern\":{\"fillmode\":\"overlay\",\"size\":10,\"solidity\":0.2},\"type\":\"scatter\"}],\"parcoords\":[{\"type\":\"parcoords\",\"line\":{\"colorbar\":{\"outlinewidth\":0,\"ticks\":\"\"}}}],\"scatterpolargl\":[{\"type\":\"scatterpolargl\",\"marker\":{\"colorbar\":{\"outlinewidth\":0,\"ticks\":\"\"}}}],\"bar\":[{\"error_x\":{\"color\":\"#2a3f5f\"},\"error_y\":{\"color\":\"#2a3f5f\"},\"marker\":{\"line\":{\"color\":\"#E5ECF6\",\"width\":0.5},\"pattern\":{\"fillmode\":\"overlay\",\"size\":10,\"solidity\":0.2}},\"type\":\"bar\"}],\"scattergeo\":[{\"type\":\"scattergeo\",\"marker\":{\"colorbar\":{\"outlinewidth\":0,\"ticks\":\"\"}}}],\"scatterpolar\":[{\"type\":\"scatterpolar\",\"marker\":{\"colorbar\":{\"outlinewidth\":0,\"ticks\":\"\"}}}],\"histogram\":[{\"marker\":{\"pattern\":{\"fillmode\":\"overlay\",\"size\":10,\"solidity\":0.2}},\"type\":\"histogram\"}],\"scattergl\":[{\"type\":\"scattergl\",\"marker\":{\"colorbar\":{\"outlinewidth\":0,\"ticks\":\"\"}}}],\"scatter3d\":[{\"type\":\"scatter3d\",\"line\":{\"colorbar\":{\"outlinewidth\":0,\"ticks\":\"\"}},\"marker\":{\"colorbar\":{\"outlinewidth\":0,\"ticks\":\"\"}}}],\"scattermap\":[{\"type\":\"scattermap\",\"marker\":{\"colorbar\":{\"outlinewidth\":0,\"ticks\":\"\"}}}],\"scattermapbox\":[{\"type\":\"scattermapbox\",\"marker\":{\"colorbar\":{\"outlinewidth\":0,\"ticks\":\"\"}}}],\"scatterternary\":[{\"type\":\"scatterternary\",\"marker\":{\"colorbar\":{\"outlinewidth\":0,\"ticks\":\"\"}}}],\"scattercarpet\":[{\"type\":\"scattercarpet\",\"marker\":{\"colorbar\":{\"outlinewidth\":0,\"ticks\":\"\"}}}],\"carpet\":[{\"aaxis\":{\"endlinecolor\":\"#2a3f5f\",\"gridcolor\":\"white\",\"linecolor\":\"white\",\"minorgridcolor\":\"white\",\"startlinecolor\":\"#2a3f5f\"},\"baxis\":{\"endlinecolor\":\"#2a3f5f\",\"gridcolor\":\"white\",\"linecolor\":\"white\",\"minorgridcolor\":\"white\",\"startlinecolor\":\"#2a3f5f\"},\"type\":\"carpet\"}],\"table\":[{\"cells\":{\"fill\":{\"color\":\"#EBF0F8\"},\"line\":{\"color\":\"white\"}},\"header\":{\"fill\":{\"color\":\"#C8D4E3\"},\"line\":{\"color\":\"white\"}},\"type\":\"table\"}],\"barpolar\":[{\"marker\":{\"line\":{\"color\":\"#E5ECF6\",\"width\":0.5},\"pattern\":{\"fillmode\":\"overlay\",\"size\":10,\"solidity\":0.2}},\"type\":\"barpolar\"}],\"pie\":[{\"automargin\":true,\"type\":\"pie\"}]},\"layout\":{\"autotypenumbers\":\"strict\",\"colorway\":[\"#636efa\",\"#EF553B\",\"#00cc96\",\"#ab63fa\",\"#FFA15A\",\"#19d3f3\",\"#FF6692\",\"#B6E880\",\"#FF97FF\",\"#FECB52\"],\"font\":{\"color\":\"#2a3f5f\"},\"hovermode\":\"closest\",\"hoverlabel\":{\"align\":\"left\"},\"paper_bgcolor\":\"white\",\"plot_bgcolor\":\"#E5ECF6\",\"polar\":{\"bgcolor\":\"#E5ECF6\",\"angularaxis\":{\"gridcolor\":\"white\",\"linecolor\":\"white\",\"ticks\":\"\"},\"radialaxis\":{\"gridcolor\":\"white\",\"linecolor\":\"white\",\"ticks\":\"\"}},\"ternary\":{\"bgcolor\":\"#E5ECF6\",\"aaxis\":{\"gridcolor\":\"white\",\"linecolor\":\"white\",\"ticks\":\"\"},\"baxis\":{\"gridcolor\":\"white\",\"linecolor\":\"white\",\"ticks\":\"\"},\"caxis\":{\"gridcolor\":\"white\",\"linecolor\":\"white\",\"ticks\":\"\"}},\"coloraxis\":{\"colorbar\":{\"outlinewidth\":0,\"ticks\":\"\"}},\"colorscale\":{\"sequential\":[[0.0,\"#0d0887\"],[0.1111111111111111,\"#46039f\"],[0.2222222222222222,\"#7201a8\"],[0.3333333333333333,\"#9c179e\"],[0.4444444444444444,\"#bd3786\"],[0.5555555555555556,\"#d8576b\"],[0.6666666666666666,\"#ed7953\"],[0.7777777777777778,\"#fb9f3a\"],[0.8888888888888888,\"#fdca26\"],[1.0,\"#f0f921\"]],\"sequentialminus\":[[0.0,\"#0d0887\"],[0.1111111111111111,\"#46039f\"],[0.2222222222222222,\"#7201a8\"],[0.3333333333333333,\"#9c179e\"],[0.4444444444444444,\"#bd3786\"],[0.5555555555555556,\"#d8576b\"],[0.6666666666666666,\"#ed7953\"],[0.7777777777777778,\"#fb9f3a\"],[0.8888888888888888,\"#fdca26\"],[1.0,\"#f0f921\"]],\"diverging\":[[0,\"#8e0152\"],[0.1,\"#c51b7d\"],[0.2,\"#de77ae\"],[0.3,\"#f1b6da\"],[0.4,\"#fde0ef\"],[0.5,\"#f7f7f7\"],[0.6,\"#e6f5d0\"],[0.7,\"#b8e186\"],[0.8,\"#7fbc41\"],[0.9,\"#4d9221\"],[1,\"#276419\"]]},\"xaxis\":{\"gridcolor\":\"white\",\"linecolor\":\"white\",\"ticks\":\"\",\"title\":{\"standoff\":15},\"zerolinecolor\":\"white\",\"automargin\":true,\"zerolinewidth\":2},\"yaxis\":{\"gridcolor\":\"white\",\"linecolor\":\"white\",\"ticks\":\"\",\"title\":{\"standoff\":15},\"zerolinecolor\":\"white\",\"automargin\":true,\"zerolinewidth\":2},\"scene\":{\"xaxis\":{\"backgroundcolor\":\"#E5ECF6\",\"gridcolor\":\"white\",\"linecolor\":\"white\",\"showbackground\":true,\"ticks\":\"\",\"zerolinecolor\":\"white\",\"gridwidth\":2},\"yaxis\":{\"backgroundcolor\":\"#E5ECF6\",\"gridcolor\":\"white\",\"linecolor\":\"white\",\"showbackground\":true,\"ticks\":\"\",\"zerolinecolor\":\"white\",\"gridwidth\":2},\"zaxis\":{\"backgroundcolor\":\"#E5ECF6\",\"gridcolor\":\"white\",\"linecolor\":\"white\",\"showbackground\":true,\"ticks\":\"\",\"zerolinecolor\":\"white\",\"gridwidth\":2}},\"shapedefaults\":{\"line\":{\"color\":\"#2a3f5f\"}},\"annotationdefaults\":{\"arrowcolor\":\"#2a3f5f\",\"arrowhead\":0,\"arrowwidth\":1},\"geo\":{\"bgcolor\":\"white\",\"landcolor\":\"#E5ECF6\",\"subunitcolor\":\"white\",\"showland\":true,\"showlakes\":true,\"lakecolor\":\"white\"},\"title\":{\"x\":0.05},\"mapbox\":{\"style\":\"light\"}}},\"annotations\":[{\"font\":{\"size\":16},\"showarrow\":false,\"text\":\"Kế hoạch - Tháng 01\",\"x\":0.225,\"xanchor\":\"center\",\"xref\":\"paper\",\"y\":1.0,\"yanchor\":\"bottom\",\"yref\":\"paper\"},{\"font\":{\"size\":16},\"showarrow\":false,\"text\":\"Thực hiện - Tháng 01\",\"x\":0.775,\"xanchor\":\"center\",\"xref\":\"paper\",\"y\":1.0,\"yanchor\":\"bottom\",\"yref\":\"paper\"},{\"font\":{\"size\":16},\"showarrow\":false,\"text\":\"Kế hoạch - Tháng 02\",\"x\":0.225,\"xanchor\":\"center\",\"xref\":\"paper\",\"y\":0.375,\"yanchor\":\"bottom\",\"yref\":\"paper\"},{\"font\":{\"size\":16},\"showarrow\":false,\"text\":\"Thực hiện - Tháng 02\",\"x\":0.775,\"xanchor\":\"center\",\"xref\":\"paper\",\"y\":0.375,\"yanchor\":\"bottom\",\"yref\":\"paper\"}],\"title\":{\"font\":{\"size\":24},\"text\":\"Dashboard Phân tích Tài chính Toàn diện\"},\"font\":{\"family\":\"Arial, sans-serif\"},\"height\":900},                        {\"responsive\": true}                    )                };            </script>        </div>"
      ],
      "text/plain": [
       "Figure({\n",
       "    'data': [{'branchvalues': 'total',\n",
       "              'domain': {'x': [0.0, 0.45], 'y': [0.625, 1.0]},\n",
       "              'hovertemplate': ('labels=%{label}<br>T01 Kế hoạc' ... 'nt}<br>id=%{id}<extra></extra>'),\n",
       "              'ids': array(['DOANH THU/Tổng Doanh thu/Sản xuất/BU01',\n",
       "                            'DOANH THU/Tổng Doanh thu/Sản xuất/BU02',\n",
       "                            'DOANH THU/Tổng Doanh thu/Dịch vụ/BU01',\n",
       "                            'DOANH THU/Tổng Doanh thu/Dịch vụ/BU02',\n",
       "                            'GIÁ VỐN/Giá vốn dự án/Sản xuất/BU01',\n",
       "                            'GIÁ VỐN/Giá vốn dự án/Sản xuất/BU02',\n",
       "                            'GIÁ VỐN/Giá vốn dự án/Dịch vụ/BU01',\n",
       "                            'GIÁ VỐN/Giá vốn dự án/Dịch vụ/BU02',\n",
       "                            'GIÁ VỐN/Chi phí nhàn rỗi/Sản xuất/BU01',\n",
       "                            'GIÁ VỐN/Chi phí nhàn rỗi/Sản xuất/BU02',\n",
       "                            'GIÁ VỐN/Chi phí nhàn rỗi/Dịch vụ/BU01',\n",
       "                            'GIÁ VỐN/Chi phí nhàn rỗi/Dịch vụ/BU02',\n",
       "                            'GIÁ VỐN/Chi phí tài chính/Sản xuất/BU01',\n",
       "                            'GIÁ VỐN/Chi phí tài chính/Sản xuất/BU02',\n",
       "                            'GIÁ VỐN/Chi phí tài chính/Dịch vụ/BU01',\n",
       "                            'GIÁ VỐN/Chi phí tài chính/Dịch vụ/BU02',\n",
       "                            'DOANH THU/Tổng Doanh thu/Sản xuất', 'DOANH THU/Tổng Doanh thu/Dịch vụ',\n",
       "                            'GIÁ VỐN/Giá vốn dự án/Sản xuất', 'GIÁ VỐN/Giá vốn dự án/Dịch vụ',\n",
       "                            'GIÁ VỐN/Chi phí nhàn rỗi/Sản xuất', 'GIÁ VỐN/Chi phí nhàn rỗi/Dịch vụ',\n",
       "                            'GIÁ VỐN/Chi phí tài chính/Sản xuất',\n",
       "                            'GIÁ VỐN/Chi phí tài chính/Dịch vụ', 'DOANH THU/Tổng Doanh thu',\n",
       "                            'GIÁ VỐN/Giá vốn dự án', 'GIÁ VỐN/Chi phí nhàn rỗi',\n",
       "                            'GIÁ VỐN/Chi phí tài chính', 'DOANH THU', 'GIÁ VỐN'], dtype=object),\n",
       "              'labels': array(['BU01', 'BU02', 'BU01', 'BU02', 'BU01', 'BU02', 'BU01', 'BU02', 'BU01',\n",
       "                               'BU02', 'BU01', 'BU02', 'BU01', 'BU02', 'BU01', 'BU02', 'Sản xuất',\n",
       "                               'Dịch vụ', 'Sản xuất', 'Dịch vụ', 'Sản xuất', 'Dịch vụ', 'Sản xuất',\n",
       "                               'Dịch vụ', 'Tổng Doanh thu', 'Giá vốn dự án', 'Chi phí nhàn rỗi',\n",
       "                               'Chi phí tài chính', 'DOANH THU', 'GIÁ VỐN'], dtype=object),\n",
       "              'name': '',\n",
       "              'parents': array(['DOANH THU/Tổng Doanh thu/Sản xuất',\n",
       "                                'DOANH THU/Tổng Doanh thu/Sản xuất', 'DOANH THU/Tổng Doanh thu/Dịch vụ',\n",
       "                                'DOANH THU/Tổng Doanh thu/Dịch vụ', 'GIÁ VỐN/Giá vốn dự án/Sản xuất',\n",
       "                                'GIÁ VỐN/Giá vốn dự án/Sản xuất', 'GIÁ VỐN/Giá vốn dự án/Dịch vụ',\n",
       "                                'GIÁ VỐN/Giá vốn dự án/Dịch vụ', 'GIÁ VỐN/Chi phí nhàn rỗi/Sản xuất',\n",
       "                                'GIÁ VỐN/Chi phí nhàn rỗi/Sản xuất', 'GIÁ VỐN/Chi phí nhàn rỗi/Dịch vụ',\n",
       "                                'GIÁ VỐN/Chi phí nhàn rỗi/Dịch vụ',\n",
       "                                'GIÁ VỐN/Chi phí tài chính/Sản xuất',\n",
       "                                'GIÁ VỐN/Chi phí tài chính/Sản xuất',\n",
       "                                'GIÁ VỐN/Chi phí tài chính/Dịch vụ',\n",
       "                                'GIÁ VỐN/Chi phí tài chính/Dịch vụ', 'DOANH THU/Tổng Doanh thu',\n",
       "                                'DOANH THU/Tổng Doanh thu', 'GIÁ VỐN/Giá vốn dự án',\n",
       "                                'GIÁ VỐN/Giá vốn dự án', 'GIÁ VỐN/Chi phí nhàn rỗi',\n",
       "                                'GIÁ VỐN/Chi phí nhàn rỗi', 'GIÁ VỐN/Chi phí tài chính',\n",
       "                                'GIÁ VỐN/Chi phí tài chính', 'DOANH THU', 'GIÁ VỐN', 'GIÁ VỐN',\n",
       "                                'GIÁ VỐN', '', ''], dtype=object),\n",
       "              'textinfo': 'label+percent parent',\n",
       "              'type': 'sunburst',\n",
       "              'values': {'bdata': ('AAAAAAAA8D8AAAAAAAAAQAAAAAAAAC' ... 'AAAABAd0AAAAAAAAA0QAAAAAAAAIhA'),\n",
       "                         'dtype': 'f8'}},\n",
       "             {'branchvalues': 'total',\n",
       "              'domain': {'x': [0.55, 1.0], 'y': [0.625, 1.0]},\n",
       "              'hovertemplate': ('labels=%{label}<br>T01 Thực hi' ... 'nt}<br>id=%{id}<extra></extra>'),\n",
       "              'ids': array(['DOANH THU/Tổng Doanh thu/Sản xuất/BU01',\n",
       "                            'DOANH THU/Tổng Doanh thu/Sản xuất/BU02',\n",
       "                            'DOANH THU/Tổng Doanh thu/Dịch vụ/BU01',\n",
       "                            'DOANH THU/Tổng Doanh thu/Dịch vụ/BU02',\n",
       "                            'GIÁ VỐN/Giá vốn dự án/Sản xuất/BU01',\n",
       "                            'GIÁ VỐN/Giá vốn dự án/Sản xuất/BU02',\n",
       "                            'GIÁ VỐN/Giá vốn dự án/Dịch vụ/BU01',\n",
       "                            'GIÁ VỐN/Giá vốn dự án/Dịch vụ/BU02',\n",
       "                            'GIÁ VỐN/Chi phí nhàn rỗi/Sản xuất/BU01',\n",
       "                            'GIÁ VỐN/Chi phí nhàn rỗi/Sản xuất/BU02',\n",
       "                            'GIÁ VỐN/Chi phí nhàn rỗi/Dịch vụ/BU01',\n",
       "                            'GIÁ VỐN/Chi phí nhàn rỗi/Dịch vụ/BU02',\n",
       "                            'GIÁ VỐN/Chi phí tài chính/Sản xuất/BU01',\n",
       "                            'GIÁ VỐN/Chi phí tài chính/Sản xuất/BU02',\n",
       "                            'GIÁ VỐN/Chi phí tài chính/Dịch vụ/BU01',\n",
       "                            'GIÁ VỐN/Chi phí tài chính/Dịch vụ/BU02',\n",
       "                            'DOANH THU/Tổng Doanh thu/Sản xuất', 'DOANH THU/Tổng Doanh thu/Dịch vụ',\n",
       "                            'GIÁ VỐN/Giá vốn dự án/Sản xuất', 'GIÁ VỐN/Giá vốn dự án/Dịch vụ',\n",
       "                            'GIÁ VỐN/Chi phí nhàn rỗi/Sản xuất', 'GIÁ VỐN/Chi phí nhàn rỗi/Dịch vụ',\n",
       "                            'GIÁ VỐN/Chi phí tài chính/Sản xuất',\n",
       "                            'GIÁ VỐN/Chi phí tài chính/Dịch vụ', 'DOANH THU/Tổng Doanh thu',\n",
       "                            'GIÁ VỐN/Giá vốn dự án', 'GIÁ VỐN/Chi phí nhàn rỗi',\n",
       "                            'GIÁ VỐN/Chi phí tài chính', 'DOANH THU', 'GIÁ VỐN'], dtype=object),\n",
       "              'labels': array(['BU01', 'BU02', 'BU01', 'BU02', 'BU01', 'BU02', 'BU01', 'BU02', 'BU01',\n",
       "                               'BU02', 'BU01', 'BU02', 'BU01', 'BU02', 'BU01', 'BU02', 'Sản xuất',\n",
       "                               'Dịch vụ', 'Sản xuất', 'Dịch vụ', 'Sản xuất', 'Dịch vụ', 'Sản xuất',\n",
       "                               'Dịch vụ', 'Tổng Doanh thu', 'Giá vốn dự án', 'Chi phí nhàn rỗi',\n",
       "                               'Chi phí tài chính', 'DOANH THU', 'GIÁ VỐN'], dtype=object),\n",
       "              'name': '',\n",
       "              'parents': array(['DOANH THU/Tổng Doanh thu/Sản xuất',\n",
       "                                'DOANH THU/Tổng Doanh thu/Sản xuất', 'DOANH THU/Tổng Doanh thu/Dịch vụ',\n",
       "                                'DOANH THU/Tổng Doanh thu/Dịch vụ', 'GIÁ VỐN/Giá vốn dự án/Sản xuất',\n",
       "                                'GIÁ VỐN/Giá vốn dự án/Sản xuất', 'GIÁ VỐN/Giá vốn dự án/Dịch vụ',\n",
       "                                'GIÁ VỐN/Giá vốn dự án/Dịch vụ', 'GIÁ VỐN/Chi phí nhàn rỗi/Sản xuất',\n",
       "                                'GIÁ VỐN/Chi phí nhàn rỗi/Sản xuất', 'GIÁ VỐN/Chi phí nhàn rỗi/Dịch vụ',\n",
       "                                'GIÁ VỐN/Chi phí nhàn rỗi/Dịch vụ',\n",
       "                                'GIÁ VỐN/Chi phí tài chính/Sản xuất',\n",
       "                                'GIÁ VỐN/Chi phí tài chính/Sản xuất',\n",
       "                                'GIÁ VỐN/Chi phí tài chính/Dịch vụ',\n",
       "                                'GIÁ VỐN/Chi phí tài chính/Dịch vụ', 'DOANH THU/Tổng Doanh thu',\n",
       "                                'DOANH THU/Tổng Doanh thu', 'GIÁ VỐN/Giá vốn dự án',\n",
       "                                'GIÁ VỐN/Giá vốn dự án', 'GIÁ VỐN/Chi phí nhàn rỗi',\n",
       "                                'GIÁ VỐN/Chi phí nhàn rỗi', 'GIÁ VỐN/Chi phí tài chính',\n",
       "                                'GIÁ VỐN/Chi phí tài chính', 'DOANH THU', 'GIÁ VỐN', 'GIÁ VỐN',\n",
       "                                'GIÁ VỐN', '', ''], dtype=object),\n",
       "              'textinfo': 'label+percent parent',\n",
       "              'type': 'sunburst',\n",
       "              'values': {'bdata': ('AAAAAAAACEAAAAAAAAAYQAAAAAAAAD' ... 'AAAABwkUAAAAAAAABOQAAAAAAAAKJA'),\n",
       "                         'dtype': 'f8'}},\n",
       "             {'branchvalues': 'total',\n",
       "              'domain': {'x': [0.0, 0.45], 'y': [0.0, 0.375]},\n",
       "              'hovertemplate': ('labels=%{label}<br>T02 Kế hoạc' ... 'nt}<br>id=%{id}<extra></extra>'),\n",
       "              'ids': array(['DOANH THU/Tổng Doanh thu/Sản xuất/BU01',\n",
       "                            'DOANH THU/Tổng Doanh thu/Sản xuất/BU02',\n",
       "                            'DOANH THU/Tổng Doanh thu/Dịch vụ/BU01',\n",
       "                            'DOANH THU/Tổng Doanh thu/Dịch vụ/BU02',\n",
       "                            'GIÁ VỐN/Giá vốn dự án/Sản xuất/BU01',\n",
       "                            'GIÁ VỐN/Giá vốn dự án/Sản xuất/BU02',\n",
       "                            'GIÁ VỐN/Giá vốn dự án/Dịch vụ/BU01',\n",
       "                            'GIÁ VỐN/Giá vốn dự án/Dịch vụ/BU02',\n",
       "                            'GIÁ VỐN/Chi phí nhàn rỗi/Sản xuất/BU01',\n",
       "                            'GIÁ VỐN/Chi phí nhàn rỗi/Sản xuất/BU02',\n",
       "                            'GIÁ VỐN/Chi phí nhàn rỗi/Dịch vụ/BU01',\n",
       "                            'GIÁ VỐN/Chi phí nhàn rỗi/Dịch vụ/BU02',\n",
       "                            'GIÁ VỐN/Chi phí tài chính/Sản xuất/BU01',\n",
       "                            'GIÁ VỐN/Chi phí tài chính/Sản xuất/BU02',\n",
       "                            'GIÁ VỐN/Chi phí tài chính/Dịch vụ/BU01',\n",
       "                            'GIÁ VỐN/Chi phí tài chính/Dịch vụ/BU02',\n",
       "                            'DOANH THU/Tổng Doanh thu/Sản xuất', 'DOANH THU/Tổng Doanh thu/Dịch vụ',\n",
       "                            'GIÁ VỐN/Giá vốn dự án/Sản xuất', 'GIÁ VỐN/Giá vốn dự án/Dịch vụ',\n",
       "                            'GIÁ VỐN/Chi phí nhàn rỗi/Sản xuất', 'GIÁ VỐN/Chi phí nhàn rỗi/Dịch vụ',\n",
       "                            'GIÁ VỐN/Chi phí tài chính/Sản xuất',\n",
       "                            'GIÁ VỐN/Chi phí tài chính/Dịch vụ', 'DOANH THU/Tổng Doanh thu',\n",
       "                            'GIÁ VỐN/Giá vốn dự án', 'GIÁ VỐN/Chi phí nhàn rỗi',\n",
       "                            'GIÁ VỐN/Chi phí tài chính', 'DOANH THU', 'GIÁ VỐN'], dtype=object),\n",
       "              'labels': array(['BU01', 'BU02', 'BU01', 'BU02', 'BU01', 'BU02', 'BU01', 'BU02', 'BU01',\n",
       "                               'BU02', 'BU01', 'BU02', 'BU01', 'BU02', 'BU01', 'BU02', 'Sản xuất',\n",
       "                               'Dịch vụ', 'Sản xuất', 'Dịch vụ', 'Sản xuất', 'Dịch vụ', 'Sản xuất',\n",
       "                               'Dịch vụ', 'Tổng Doanh thu', 'Giá vốn dự án', 'Chi phí nhàn rỗi',\n",
       "                               'Chi phí tài chính', 'DOANH THU', 'GIÁ VỐN'], dtype=object),\n",
       "              'name': '',\n",
       "              'parents': array(['DOANH THU/Tổng Doanh thu/Sản xuất',\n",
       "                                'DOANH THU/Tổng Doanh thu/Sản xuất', 'DOANH THU/Tổng Doanh thu/Dịch vụ',\n",
       "                                'DOANH THU/Tổng Doanh thu/Dịch vụ', 'GIÁ VỐN/Giá vốn dự án/Sản xuất',\n",
       "                                'GIÁ VỐN/Giá vốn dự án/Sản xuất', 'GIÁ VỐN/Giá vốn dự án/Dịch vụ',\n",
       "                                'GIÁ VỐN/Giá vốn dự án/Dịch vụ', 'GIÁ VỐN/Chi phí nhàn rỗi/Sản xuất',\n",
       "                                'GIÁ VỐN/Chi phí nhàn rỗi/Sản xuất', 'GIÁ VỐN/Chi phí nhàn rỗi/Dịch vụ',\n",
       "                                'GIÁ VỐN/Chi phí nhàn rỗi/Dịch vụ',\n",
       "                                'GIÁ VỐN/Chi phí tài chính/Sản xuất',\n",
       "                                'GIÁ VỐN/Chi phí tài chính/Sản xuất',\n",
       "                                'GIÁ VỐN/Chi phí tài chính/Dịch vụ',\n",
       "                                'GIÁ VỐN/Chi phí tài chính/Dịch vụ', 'DOANH THU/Tổng Doanh thu',\n",
       "                                'DOANH THU/Tổng Doanh thu', 'GIÁ VỐN/Giá vốn dự án',\n",
       "                                'GIÁ VỐN/Giá vốn dự án', 'GIÁ VỐN/Chi phí nhàn rỗi',\n",
       "                                'GIÁ VỐN/Chi phí nhàn rỗi', 'GIÁ VỐN/Chi phí tài chính',\n",
       "                                'GIÁ VỐN/Chi phí tài chính', 'DOANH THU', 'GIÁ VỐN', 'GIÁ VỐN',\n",
       "                                'GIÁ VỐN', '', ''], dtype=object),\n",
       "              'textinfo': 'label+percent parent',\n",
       "              'type': 'sunburst',\n",
       "              'values': {'bdata': ('AAAAAAAAFEAAAAAAAAAkQAAAAAAAAE' ... 'AAAAAQnUAAAAAAAABZQAAAAAAAAK5A'),\n",
       "                         'dtype': 'f8'}},\n",
       "             {'branchvalues': 'total',\n",
       "              'domain': {'x': [0.55, 1.0], 'y': [0.0, 0.375]},\n",
       "              'hovertemplate': ('labels=%{label}<br>T02 Thực hi' ... 'nt}<br>id=%{id}<extra></extra>'),\n",
       "              'ids': array(['DOANH THU/Tổng Doanh thu/Sản xuất/BU01',\n",
       "                            'DOANH THU/Tổng Doanh thu/Sản xuất/BU02',\n",
       "                            'DOANH THU/Tổng Doanh thu/Dịch vụ/BU01',\n",
       "                            'DOANH THU/Tổng Doanh thu/Dịch vụ/BU02',\n",
       "                            'GIÁ VỐN/Giá vốn dự án/Sản xuất/BU01',\n",
       "                            'GIÁ VỐN/Giá vốn dự án/Sản xuất/BU02',\n",
       "                            'GIÁ VỐN/Giá vốn dự án/Dịch vụ/BU01',\n",
       "                            'GIÁ VỐN/Giá vốn dự án/Dịch vụ/BU02',\n",
       "                            'GIÁ VỐN/Chi phí nhàn rỗi/Sản xuất/BU01',\n",
       "                            'GIÁ VỐN/Chi phí nhàn rỗi/Sản xuất/BU02',\n",
       "                            'GIÁ VỐN/Chi phí nhàn rỗi/Dịch vụ/BU01',\n",
       "                            'GIÁ VỐN/Chi phí nhàn rỗi/Dịch vụ/BU02',\n",
       "                            'GIÁ VỐN/Chi phí tài chính/Sản xuất/BU01',\n",
       "                            'GIÁ VỐN/Chi phí tài chính/Sản xuất/BU02',\n",
       "                            'GIÁ VỐN/Chi phí tài chính/Dịch vụ/BU01',\n",
       "                            'GIÁ VỐN/Chi phí tài chính/Dịch vụ/BU02',\n",
       "                            'DOANH THU/Tổng Doanh thu/Sản xuất', 'DOANH THU/Tổng Doanh thu/Dịch vụ',\n",
       "                            'GIÁ VỐN/Giá vốn dự án/Sản xuất', 'GIÁ VỐN/Giá vốn dự án/Dịch vụ',\n",
       "                            'GIÁ VỐN/Chi phí nhàn rỗi/Sản xuất', 'GIÁ VỐN/Chi phí nhàn rỗi/Dịch vụ',\n",
       "                            'GIÁ VỐN/Chi phí tài chính/Sản xuất',\n",
       "                            'GIÁ VỐN/Chi phí tài chính/Dịch vụ', 'DOANH THU/Tổng Doanh thu',\n",
       "                            'GIÁ VỐN/Giá vốn dự án', 'GIÁ VỐN/Chi phí nhàn rỗi',\n",
       "                            'GIÁ VỐN/Chi phí tài chính', 'DOANH THU', 'GIÁ VỐN'], dtype=object),\n",
       "              'labels': array(['BU01', 'BU02', 'BU01', 'BU02', 'BU01', 'BU02', 'BU01', 'BU02', 'BU01',\n",
       "                               'BU02', 'BU01', 'BU02', 'BU01', 'BU02', 'BU01', 'BU02', 'Sản xuất',\n",
       "                               'Dịch vụ', 'Sản xuất', 'Dịch vụ', 'Sản xuất', 'Dịch vụ', 'Sản xuất',\n",
       "                               'Dịch vụ', 'Tổng Doanh thu', 'Giá vốn dự án', 'Chi phí nhàn rỗi',\n",
       "                               'Chi phí tài chính', 'DOANH THU', 'GIÁ VỐN'], dtype=object),\n",
       "              'name': '',\n",
       "              'parents': array(['DOANH THU/Tổng Doanh thu/Sản xuất',\n",
       "                                'DOANH THU/Tổng Doanh thu/Sản xuất', 'DOANH THU/Tổng Doanh thu/Dịch vụ',\n",
       "                                'DOANH THU/Tổng Doanh thu/Dịch vụ', 'GIÁ VỐN/Giá vốn dự án/Sản xuất',\n",
       "                                'GIÁ VỐN/Giá vốn dự án/Sản xuất', 'GIÁ VỐN/Giá vốn dự án/Dịch vụ',\n",
       "                                'GIÁ VỐN/Giá vốn dự án/Dịch vụ', 'GIÁ VỐN/Chi phí nhàn rỗi/Sản xuất',\n",
       "                                'GIÁ VỐN/Chi phí nhàn rỗi/Sản xuất', 'GIÁ VỐN/Chi phí nhàn rỗi/Dịch vụ',\n",
       "                                'GIÁ VỐN/Chi phí nhàn rỗi/Dịch vụ',\n",
       "                                'GIÁ VỐN/Chi phí tài chính/Sản xuất',\n",
       "                                'GIÁ VỐN/Chi phí tài chính/Sản xuất',\n",
       "                                'GIÁ VỐN/Chi phí tài chính/Dịch vụ',\n",
       "                                'GIÁ VỐN/Chi phí tài chính/Dịch vụ', 'DOANH THU/Tổng Doanh thu',\n",
       "                                'DOANH THU/Tổng Doanh thu', 'GIÁ VỐN/Giá vốn dự án',\n",
       "                                'GIÁ VỐN/Giá vốn dự án', 'GIÁ VỐN/Chi phí nhàn rỗi',\n",
       "                                'GIÁ VỐN/Chi phí nhàn rỗi', 'GIÁ VỐN/Chi phí tài chính',\n",
       "                                'GIÁ VỐN/Chi phí tài chính', 'DOANH THU', 'GIÁ VỐN', 'GIÁ VỐN',\n",
       "                                'GIÁ VỐN', '', ''], dtype=object),\n",
       "              'textinfo': 'label+percent parent',\n",
       "              'type': 'sunburst',\n",
       "              'values': {'bdata': ('AAAAAAAAHEAAAAAAAAAsQAAAAAAAAE' ... 'AAAABYpEAAAAAAAIBhQAAAAAAAALVA'),\n",
       "                         'dtype': 'f8'}}],\n",
       "    'layout': {'annotations': [{'font': {'size': 16},\n",
       "                                'showarrow': False,\n",
       "                                'text': 'Kế hoạch - Tháng 01',\n",
       "                                'x': 0.225,\n",
       "                                'xanchor': 'center',\n",
       "                                'xref': 'paper',\n",
       "                                'y': 1.0,\n",
       "                                'yanchor': 'bottom',\n",
       "                                'yref': 'paper'},\n",
       "                               {'font': {'size': 16},\n",
       "                                'showarrow': False,\n",
       "                                'text': 'Thực hiện - Tháng 01',\n",
       "                                'x': 0.775,\n",
       "                                'xanchor': 'center',\n",
       "                                'xref': 'paper',\n",
       "                                'y': 1.0,\n",
       "                                'yanchor': 'bottom',\n",
       "                                'yref': 'paper'},\n",
       "                               {'font': {'size': 16},\n",
       "                                'showarrow': False,\n",
       "                                'text': 'Kế hoạch - Tháng 02',\n",
       "                                'x': 0.225,\n",
       "                                'xanchor': 'center',\n",
       "                                'xref': 'paper',\n",
       "                                'y': 0.375,\n",
       "                                'yanchor': 'bottom',\n",
       "                                'yref': 'paper'},\n",
       "                               {'font': {'size': 16},\n",
       "                                'showarrow': False,\n",
       "                                'text': 'Thực hiện - Tháng 02',\n",
       "                                'x': 0.775,\n",
       "                                'xanchor': 'center',\n",
       "                                'xref': 'paper',\n",
       "                                'y': 0.375,\n",
       "                                'yanchor': 'bottom',\n",
       "                                'yref': 'paper'}],\n",
       "               'font': {'family': 'Arial, sans-serif'},\n",
       "               'height': 900,\n",
       "               'template': '...',\n",
       "               'title': {'font': {'size': 24}, 'text': 'Dashboard Phân tích Tài chính Toàn diện'}}\n",
       "})"
      ]
     },
     "execution_count": 9,
     "metadata": {},
     "output_type": "execute_result"
    }
   ],
   "source": [
    "# -*- coding: utf-8 -*-\n",
    "import pandas as pd\n",
    "import plotly.express as px\n",
    "from plotly.subplots import make_subplots\n",
    "\n",
    "# --- Step 1: Clean and Structure the Data ---\n",
    "data = {\n",
    "    'Chỉ tiêu': ['DOANH THU', 'DOANH THU', 'DOANH THU', 'DOANH THU', 'GIÁ VỐN', 'GIÁ VỐN', 'GIÁ VỐN', 'GIÁ VỐN', 'GIÁ VỐN', 'GIÁ VỐN', 'GIÁ VỐN', 'GIÁ VỐN', 'GIÁ VỐN', 'GIÁ VỐN', 'GIÁ VỐN', 'GIÁ VỐN'],\n",
    "    'Thành phần': ['Undefined', 'Undefined', 'Undefined', 'Undefined', 'Giá vốn dự án', 'Giá vốn dự án', 'Giá vốn dự án', 'Giá vốn dự án', 'Chi phí nhàn rỗi', 'Chi phí nhàn rỗi', 'Chi phí nhàn rỗi', 'Chi phí nhàn rỗi', 'Chi phí tài chính', 'Chi phí tài chính', 'Chi phí tài chính', 'Chi phí tài chính'],\n",
    "    'Loại hình': ['Sản xuất', 'Sản xuất', 'Dịch vụ', 'Dịch vụ', 'Sản xuất', 'Sản xuất', 'Dịch vụ', 'Dịch vụ', 'Sản xuất', 'Sản xuất', 'Dịch vụ', 'Dịch vụ', 'Sản xuất', 'Sản xuất', 'Dịch vụ', 'Dịch vụ'],\n",
    "    'BU': ['BU01', 'BU02', 'BU01', 'BU02', 'BU01', 'BU02', 'BU01', 'BU02', 'BU01', 'BU02', 'BU01', 'BU02', 'BU01', 'BU02', 'BU01', 'BU02'],\n",
    "    'T01 Kế hoạch': [1.0, 2.0, 8.0, 9.0, 31.0, 32.0, 38.0, 39.0, 60.0, 61.0, 67.0, 68.0, 89.0, 90.0, 96.0, 97.0],\n",
    "    'T01 Thực hiện': [3.0, 6.0, 24.0, 27.0, 93.0, 96.0, 114.0, 117.0, 180.0, 183.0, 201.0, 204.0, 267.0, 270.0, 288.0, 291.0],\n",
    "    'T02 Kế hoạch': [5.0, 10.0, 40.0, 45.0, 155.0, 160.0, 190.0, 195.0, 300.0, 305.0, 335.0, 340.0, 445.0, 450.0, 480.0, 485.0],\n",
    "    'T02 Thực hiện': [7.0, 14.0, 56.0, 63.0, 217.0, 224.0, 266.0, 273.0, 420.0, 427.0, 469.0, 476.0, 623.0, 630.0, 672.0, 679.0]\n",
    "}\n",
    "df = pd.DataFrame(data)\n",
    "\n",
    "# Clean up the 'Undefined' value for better chart labels.\n",
    "# We'll replace it with a more descriptive name.\n",
    "df['Thành phần'] = df['Thành phần'].replace('Undefined', 'Tổng Doanh thu')\n",
    "\n",
    "# --- Step 2: Define the hierarchy path for the sunburst chart ---\n",
    "# The order defines the rings from the center outwards.\n",
    "hierarchy_path = ['Chỉ tiêu', 'Thành phần', 'Loại hình', 'BU']\n",
    "\n",
    "# --- Step 3: Create the 2x2 subplot figure ---\n",
    "fig = make_subplots(\n",
    "    rows=2, cols=2,\n",
    "    specs=[[{'type':'sunburst'}, {'type':'sunburst'}],\n",
    "           [{'type':'sunburst'}, {'type':'sunburst'}]],\n",
    "    subplot_titles=(\n",
    "        'Kế hoạch - Tháng 01', 'Thực hiện - Tháng 01',\n",
    "        'Kế hoạch - Tháng 02', 'Thực hiện - Tháng 02'\n",
    "    )\n",
    ")\n",
    "\n",
    "# --- Step 4: Create and add each sunburst chart to the figure ---\n",
    "\n",
    "# A helper function to create a sunburst trace to avoid repeating code\n",
    "def create_sunburst_trace(dataframe, path, values_col):\n",
    "    return px.sunburst(\n",
    "        dataframe,\n",
    "        path=path,\n",
    "        values=values_col\n",
    "    ).data[0]\n",
    "\n",
    "# Add the 4 charts\n",
    "fig.add_trace(create_sunburst_trace(df, hierarchy_path, 'T01 Kế hoạch'), row=1, col=1)\n",
    "fig.add_trace(create_sunburst_trace(df, hierarchy_path, 'T01 Thực hiện'), row=1, col=2)\n",
    "fig.add_trace(create_sunburst_trace(df, hierarchy_path, 'T02 Kế hoạch'), row=2, col=1)\n",
    "fig.add_trace(create_sunburst_trace(df, hierarchy_path, 'T02 Thực hiện'), row=2, col=2)\n",
    "\n",
    "# --- Step 5: Finalize Layout ---\n",
    "fig.update_traces(\n",
    "    textinfo='label+percent parent' # Show label and its percentage of the parent slice\n",
    ")\n",
    "fig.update_layout(\n",
    "    title_text=\"Dashboard Phân tích Tài chính Toàn diện\",\n",
    "    title_font_size=24,\n",
    "    height=900, # Make the figure taller to fit everything\n",
    "    font_family=\"Arial, sans-serif\"\n",
    ")"
   ]
  },
  {
   "cell_type": "code",
   "execution_count": 25,
   "metadata": {},
   "outputs": [
    {
     "name": "stdout",
     "output_type": "stream",
     "text": [
      "--- Successfully read schema from: Doanh tác theo đối tác và nguồn 2024.xlsx\n",
      "--- Identified Hierarchy ---\n",
      "Level 0 (Root): Năm 2024\n",
      "Level 1 (Months): ['Tháng 1', 'Tháng 2', 'Tháng 3', 'Tháng 4', 'Tháng 5', 'Tháng 6']\n",
      "Level 2 (Sources): ['Tự SX', 'OS', 'LK', 'Dịch vụ', 'Phí QL', 'Thương mại', 'Khác']\n",
      "--------------------------\n",
      "\n",
      "Generating Sunburst plot...\n"
     ]
    }
   ],
   "source": [
    "import json\n",
    "import pandas as pd\n",
    "import plotly.express as px\n",
    "\n",
    "def plot_sunburst_from_schema(json_path: str):\n",
    "    \"\"\"\n",
    "    Reads a JSON file describing a matrix table with a hierarchical header,\n",
    "    interprets its schema, and generates a sunburst plot of its structure.\n",
    "\n",
    "    This function adheres to the constraint of using only the schema (including row/column\n",
    "    labels) and not the actual numeric data values.\n",
    "\n",
    "    Args:\n",
    "        json_path (str): The file path to the JSON schema file.\n",
    "    \"\"\"\n",
    "    # 1. Read and Parse JSON\n",
    "    with open(json_path, 'r', encoding='utf-8') as f:\n",
    "        schema = json.load(f)\n",
    "\n",
    "    print(\"--- Successfully read schema from:\", schema['filename'])\n",
    "\n",
    "    # 2. Deconstruct the Hierarchy from the Schema\n",
    "    \n",
    "    # Extract column hierarchy from header_matrix\n",
    "    # Level 0 is the top-level header spanning multiple columns\n",
    "    level_0_header = schema['header_matrix'][0][1]['text']\n",
    "    \n",
    "    # Level 1 contains the individual sub-headers (months)\n",
    "    level_1_headers = [h['text'] for h in schema['header_matrix'][1]]\n",
    "    \n",
    "    # Extract row hierarchy (labels)\n",
    "    # As per the requirement, we use the row labels from the `data` array,\n",
    "    # treating them as part of the table's structure/schema, not as numeric data.\n",
    "    # The header for these row labels is the first element in header_matrix[0].\n",
    "    row_label_header = schema['header_matrix'][0][0]['text'] # This will be 'Nguồn'\n",
    "    row_labels = [row[0] for row in schema['data']]\n",
    "\n",
    "    print(f\"--- Identified Hierarchy ---\")\n",
    "    print(f\"Level 0 (Root): {level_0_header}\")\n",
    "    print(f\"Level 1 (Months): {level_1_headers}\")\n",
    "    print(f\"Level 2 (Sources): {row_labels}\")\n",
    "    print(\"--------------------------\\n\")\n",
    "\n",
    "    # 3. Prepare Data for Plotting in a Long Format\n",
    "    plot_data = []\n",
    "    for row_label in row_labels:\n",
    "        for month_header in level_1_headers:\n",
    "            record = {\n",
    "                \"Level 0\": level_0_header,\n",
    "                \"Level 1\": month_header,\n",
    "                row_label_header: row_label, # Use the actual header name for clarity\n",
    "                # Assign a constant value of 1 to each leaf node.\n",
    "                # This makes the chart represent structure, not quantity.\n",
    "                \"value\": 1\n",
    "            }\n",
    "            plot_data.append(record)\n",
    "\n",
    "    # Create a Pandas DataFrame\n",
    "    df = pd.DataFrame(plot_data)\n",
    "    \n",
    "    # 4. Generate the Sunburst Plot\n",
    "    print(\"Generating Sunburst plot...\")\n",
    "    fig = px.sunburst(\n",
    "        df,\n",
    "        path=['Level 0', 'Level 1', row_label_header],\n",
    "        values='value',\n",
    "        title=f\"Hierarchical Structure of '{schema['filename']}'\",\n",
    "        # Customizing hover data for clarity\n",
    "        hover_data={'value': False}\n",
    "    )\n",
    "\n",
    "    # Improve layout and readability\n",
    "    fig.update_layout(\n",
    "        margin=dict(t=50, l=25, r=25, b=25),\n",
    "        font=dict(family=\"Arial, sans-serif\", size=12)\n",
    "    )\n",
    "    fig.update_traces(\n",
    "        textinfo=\"label+percent parent\",\n",
    "        insidetextorientation='radial'\n",
    "    )\n",
    "    # save fig to a html file\n",
    "    fig.write_html('plot.html')\n",
    "\n",
    "# --- Main execution ---\n",
    "if __name__ == '__main__':\n",
    "    # Assuming 'b.json' is in the same directory\n",
    "    json_file_path = 'b.json'\n",
    "    plot_sunburst_from_schema(json_file_path)"
   ]
  },
  {
   "cell_type": "code",
   "execution_count": 28,
   "metadata": {},
   "outputs": [
    {
     "name": "stdout",
     "output_type": "stream",
     "text": [
      "\n",
      "--- Running: plot_row_feat_sunburst ---\n",
      "Reading schema from: Doanh tác theo đối tác và nguồn 2022.xlsx\n",
      "Building hierarchy from rows: ['Đối tác', 'Nguồn'] -> ['Tháng 1', 'Tháng 4']\n"
     ]
    }
   ],
   "source": [
    "import json\n",
    "import pandas as pd\n",
    "import plotly.express as px\n",
    "\n",
    "def plot_col_feat_sunburst(json_path: str):\n",
    "    \"\"\"\n",
    "    Generates a sunburst plot prioritizing the COLUMN features from the schema.\n",
    "    The hierarchy is built from the multi-level column headers.\n",
    "    \n",
    "    Example Path: [Year] -> [Month] -> [Source]\n",
    "    Ideal for schemas like 'b.json' where rows are a single feature.\n",
    "\n",
    "    Args:\n",
    "        json_path (str): The file path to the JSON schema file.\n",
    "    \"\"\"\n",
    "    print(\"\\n--- Running: plot_col_feat_sunburst ---\")\n",
    "    \n",
    "    # 1. Read and Parse JSON\n",
    "    with open(json_path, 'r', encoding='utf-8') as f:\n",
    "        schema = json.load(f)\n",
    "\n",
    "    print(f\"Reading schema from: {schema['filename']}\")\n",
    "\n",
    "    # 2. Deconstruct Hierarchy (Column-first)\n",
    "    # Level 0 is the top-level column header (e.g., \"Năm 2024\")\n",
    "    level_0_header = schema['header_matrix'][0][1]['text']\n",
    "    \n",
    "    # Level 1 contains the individual sub-headers (months)\n",
    "    level_1_headers = [h['text'] for h in schema['header_matrix'][1]]\n",
    "    \n",
    "    # The row identifier header (e.g., \"Nguồn\")\n",
    "    row_label_header = schema['header_matrix'][0][0]['text']\n",
    "    row_labels = [row[0] for row in schema['data']]\n",
    "\n",
    "    print(f\"Building hierarchy from columns: ['{level_0_header}'] -> {level_1_headers} -> ['{row_label_header}']\")\n",
    "\n",
    "    # 3. Prepare Data for Plotting\n",
    "    plot_data = []\n",
    "    for row_label in row_labels:\n",
    "        for month_header in level_1_headers:\n",
    "            record = {\n",
    "                \"Root\": level_0_header,\n",
    "                \"Sub-Category\": month_header,\n",
    "                row_label_header: row_label,\n",
    "                \"value\": 1  # Placeholder value for structure visualization\n",
    "            }\n",
    "            plot_data.append(record)\n",
    "\n",
    "    df = pd.DataFrame(plot_data)\n",
    "    \n",
    "    # 4. Generate the Sunburst Plot\n",
    "    fig = px.sunburst(\n",
    "        df,\n",
    "        path=['Root', 'Sub-Category', row_label_header],\n",
    "        values='value',\n",
    "        title=f\"Column-Feature Hierarchy of '{schema['filename']}'\",\n",
    "        hover_data={'value': False}\n",
    "    )\n",
    "\n",
    "    fig.update_layout(margin=dict(t=50, l=25, r=25, b=25))\n",
    "    fig.show()\n",
    "\n",
    "\n",
    "def plot_row_feat_sunburst(json_path: str):\n",
    "    \"\"\"\n",
    "    Generates a sunburst plot prioritizing the ROW features from the schema.\n",
    "    The hierarchy is built from the row-identifying columns.\n",
    "\n",
    "    Example Path: [Partner] -> [Source] -> [Month]\n",
    "    Ideal for schemas like 'd.json' where rows have multiple features.\n",
    "\n",
    "    Args:\n",
    "        json_path (str): The file path to the JSON schema file.\n",
    "    \"\"\"\n",
    "    print(\"\\n--- Running: plot_row_feat_sunburst ---\")\n",
    "\n",
    "    # 1. Read and Parse JSON\n",
    "    with open(json_path, 'r', encoding='utf-8') as f:\n",
    "        schema = json.load(f)\n",
    "    \n",
    "    print(f\"Reading schema from: {schema['filename']}\")\n",
    "\n",
    "    # 2. Deconstruct Hierarchy (Row-first)\n",
    "    # Identify row feature headers (those with rowspan > 1 or single columns)\n",
    "    row_feature_headers = [\n",
    "        h['text'] for h in schema['header_matrix'][0] if h.get('rowspan', 1) > 1\n",
    "    ]\n",
    "    num_row_features = len(row_feature_headers)\n",
    "    \n",
    "    # Identify data column headers (from the second level of the matrix)\n",
    "    data_col_headers = [h['text'] for h in schema['header_matrix'][1]]\n",
    "\n",
    "    print(f\"Building hierarchy from rows: {row_feature_headers} -> {data_col_headers}\")\n",
    "\n",
    "    # 3. Prepare Data for Plotting (Unpivot/Melt)\n",
    "    plot_data = []\n",
    "    # Iterate through each row of data\n",
    "    for data_row in schema['data']:\n",
    "        # Extract the row feature values (e.g., 'VAI', 'Tự SX')\n",
    "        row_feature_values = data_row[:num_row_features]\n",
    "        \n",
    "        # Iterate through the data columns (e.g., 'Tháng 1', 'Tháng 4')\n",
    "        for i, col_header in enumerate(data_col_headers):\n",
    "            # Create a dictionary for this specific data point's hierarchy\n",
    "            record = {header: value for header, value in zip(row_feature_headers, row_feature_values)}\n",
    "            record['Data_Column'] = col_header\n",
    "            record['value'] = 1  # Placeholder value for structure visualization\n",
    "            plot_data.append(record)\n",
    "\n",
    "    df = pd.DataFrame(plot_data)\n",
    "\n",
    "    # 4. Generate the Sunburst Plot\n",
    "    # The path is the list of row features plus our placeholder for data columns\n",
    "    plot_path = row_feature_headers + ['Data_Column']\n",
    "    \n",
    "    fig = px.sunburst(\n",
    "        df,\n",
    "        path=plot_path,\n",
    "        values='value',\n",
    "        title=f\"Row-Feature Hierarchy of '{schema['filename']}'\",\n",
    "        hover_data={'value': False}\n",
    "    )\n",
    "\n",
    "    fig.update_layout(margin=dict(t=50, l=25, r=25, b=25))\n",
    "    fig.write_html('plot2.html')\n",
    "    \n",
    "\n",
    "# --- Main execution ---\n",
    "if __name__ == '__main__':\n",
    "    # Run the row-focused plot for d.json\n",
    "    try:\n",
    "        plot_row_feat_sunburst('d.json')\n",
    "    except FileNotFoundError:\n",
    "        print(\"Error: d.json not found. Skipping plot.\")"
   ]
  },
  {
   "cell_type": "code",
   "execution_count": 38,
   "metadata": {},
   "outputs": [
    {
     "name": "stdout",
     "output_type": "stream",
     "text": [
      "\n",
      "--- Running Unified Plot for 'b.json' ---\n",
      "Mode: Priority='row', Use_Data=True, Exclude_Summaries=True\n",
      "Plotting with hierarchy: ['Nguồn', 'Col_Level_0', 'Col_Level_1']\n",
      "\n",
      "--- Running Unified Plot for 'b.json' ---\n",
      "Mode: Priority='column', Use_Data=True, Exclude_Summaries=True\n",
      "Plotting with hierarchy: ['Col_Level_0', 'Col_Level_1', 'Nguồn']\n"
     ]
    }
   ],
   "source": [
    "import json\n",
    "import pandas as pd\n",
    "import plotly.express as px\n",
    "from typing import List, Dict, Any\n",
    "\n",
    "def _build_column_path_map(header_matrix: List[List[Dict[str, Any]]]) -> Dict[int, List[str]]:\n",
    "    \"\"\"Helper function to dynamically build a path for each column index.\"\"\"\n",
    "    path_map = {}\n",
    "    num_levels = len(header_matrix)\n",
    "    for level in range(num_levels - 1, -1, -1):\n",
    "        for header_cell in header_matrix[level]:\n",
    "            for i in range(header_cell['colspan']):\n",
    "                current_pos = header_cell['position'] + i\n",
    "                if current_pos not in path_map:\n",
    "                    path = []\n",
    "                    temp_pos = current_pos\n",
    "                    for parent_level in range(num_levels):\n",
    "                        for parent_cell in header_matrix[parent_level]:\n",
    "                            if parent_cell['position'] <= temp_pos < parent_cell['position'] + parent_cell['colspan']:\n",
    "                                path.append(parent_cell['text'])\n",
    "                                break\n",
    "                    path_map[current_pos] = path\n",
    "    return path_map\n",
    "\n",
    "def plot_unified_sunburst(\n",
    "    json_path: str,\n",
    "    priority: str = 'column',\n",
    "    use_actual_data: bool = True,\n",
    "    exclude_summaries: bool = True\n",
    "):\n",
    "    \"\"\"\n",
    "    Generates a dynamic sunburst plot from a complex table schema, allowing for\n",
    "    prioritization of either row or column features in the hierarchy.\n",
    "\n",
    "    Args:\n",
    "        json_path (str): Path to the JSON schema file.\n",
    "        priority (str): Determines the hierarchy order.\n",
    "                        'column': Column features first (default).\n",
    "                        'row': Row features first.\n",
    "        use_actual_data (bool): If True, use real numeric data for slice values.\n",
    "                                If False, use a constant value of 1 to show structure only.\n",
    "        exclude_summaries (bool): If True, filters out columns with names like 'Cộng' or 'Tổng cộng'.\n",
    "    \"\"\"\n",
    "    if priority not in ['column', 'row']:\n",
    "        raise ValueError(\"Priority must be either 'column' or 'row'.\")\n",
    "\n",
    "    print(f\"\\n--- Running Unified Plot for '{json_path}' ---\")\n",
    "    print(f\"Mode: Priority='{priority}', Use_Data={use_actual_data}, Exclude_Summaries={exclude_summaries}\")\n",
    "\n",
    "    # 1. Read and Parse JSON\n",
    "    with open(json_path, 'r', encoding='utf-8') as f:\n",
    "        schema = json.load(f)\n",
    "\n",
    "    # 2. Deconstruct Hierarchy Dynamically\n",
    "    header_matrix = schema['header_matrix']\n",
    "    row_feature_headers = [h['text'] for h in header_matrix[0] if h.get('rowspan', 1) > 1]\n",
    "    num_row_features = len(row_feature_headers)\n",
    "    column_path_map = _build_column_path_map(header_matrix)\n",
    "\n",
    "    # 3. Prepare Data for Plotting\n",
    "    plot_data = []\n",
    "    for col_idx, flattened_col_name in enumerate(schema['columns']):\n",
    "        if col_idx < num_row_features:\n",
    "            continue\n",
    "            \n",
    "        absolute_pos = col_idx\n",
    "        column_path = column_path_map.get(absolute_pos)\n",
    "        if not column_path:\n",
    "            continue\n",
    "\n",
    "        if exclude_summaries and any(summary in column_path[-1] for summary in ['Cộng', 'Tổng']):\n",
    "            continue\n",
    "\n",
    "        for row_idx, data_row in enumerate(schema['data']):\n",
    "            record = {}\n",
    "            row_labels = data_row[:num_row_features]\n",
    "            \n",
    "            for i, header in enumerate(row_feature_headers):\n",
    "                record[header] = row_labels[i]\n",
    "            \n",
    "            for i, path_part in enumerate(column_path):\n",
    "                record[f'Col_Level_{i}'] = path_part\n",
    "            \n",
    "            if use_actual_data:\n",
    "                data_value_index = absolute_pos - num_row_features\n",
    "                try:\n",
    "                    actual_value = pd.to_numeric(data_row[data_value_index], errors='coerce')\n",
    "                    record['value'] = actual_value if pd.notna(actual_value) else 0\n",
    "                except (ValueError, TypeError, IndexError):\n",
    "                    record['value'] = 0\n",
    "            else:\n",
    "                record['value'] = 1\n",
    "            \n",
    "            plot_data.append(record)\n",
    "    \n",
    "    if not plot_data:\n",
    "        print(\"No data to plot after filtering. Exiting.\")\n",
    "        return\n",
    "        \n",
    "    df = pd.DataFrame(plot_data)\n",
    "\n",
    "    # 4. Dynamically build the plot path based on priority\n",
    "    max_col_levels = max(len(p) for p in column_path_map.values()) if column_path_map else 0\n",
    "    col_level_names = [f'Col_Level_{i}' for i in range(max_col_levels)]\n",
    "    \n",
    "    if priority == 'column':\n",
    "        plot_path = col_level_names + row_feature_headers\n",
    "    else: # priority == 'row'\n",
    "        plot_path = row_feature_headers + col_level_names\n",
    "        \n",
    "    print(f\"Plotting with hierarchy: {plot_path}\")\n",
    "\n",
    "    # 5. Generate the Sunburst Plot\n",
    "    title = f\"'{schema['filename']}' ({priority.capitalize()}-first Hierarchy)\"\n",
    "    fig = px.sunburst(\n",
    "        df,\n",
    "        path=plot_path,\n",
    "        values='value',\n",
    "        title=title,\n",
    "        hover_data={'value': use_actual_data}\n",
    "    )\n",
    "\n",
    "    fig.update_layout(margin=dict(t=60, l=25, r=25, b=25), font=dict(size=10))\n",
    "    fig.update_traces(insidetextorientation='radial')\n",
    "    fig.write_html(f'plot_{priority}.html')\n",
    "\n",
    "# --- Main execution: Demonstrating the function's flexibility ---\n",
    "if __name__ == '__main__':\n",
    "    plot_unified_sunburst('b.json', priority='row', use_actual_data=True)\n",
    "    plot_unified_sunburst('b.json', priority='column', use_actual_data=True)"
   ]
  }
 ],
 "metadata": {
  "kernelspec": {
   "display_name": "base",
   "language": "python",
   "name": "python3"
  },
  "language_info": {
   "codemirror_mode": {
    "name": "ipython",
    "version": 3
   },
   "file_extension": ".py",
   "mimetype": "text/x-python",
   "name": "python",
   "nbconvert_exporter": "python",
   "pygments_lexer": "ipython3",
   "version": "3.13.2"
  }
 },
 "nbformat": 4,
 "nbformat_minor": 2
}
